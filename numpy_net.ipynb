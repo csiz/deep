{
 "cells": [
  {
   "cell_type": "markdown",
   "metadata": {},
   "source": [
    "Neural Net from Scratch\n",
    "======================="
   ]
  },
  {
   "cell_type": "code",
   "execution_count": 1,
   "metadata": {
    "collapsed": false
   },
   "outputs": [],
   "source": [
    "import numpy as np\n",
    "from itertools import starmap, cycle\n",
    "import matplotlib.pyplot as plt\n",
    "%matplotlib inline\n",
    "import pandas as pd\n",
    "\n",
    "from IPython.display import clear_output, display\n",
    "\n",
    "def show(thing):\n",
    "    clear_output()\n",
    "    display(thing)\n",
    "    \n",
    "from numpy.random import RandomState\n",
    "random = RandomState(0)"
   ]
  },
  {
   "cell_type": "markdown",
   "metadata": {},
   "source": [
    "My network is a list of numpy 1D arrays for the neuron layers and 2D arrays for connection weights. The first neuron layer is the input and the last one will be the output. In between a layer with `n` neurons and one with `m` I define the weights as a 2D array of shape `(n, m)`. We can fully define the network by the list of weights which I'll name `net`."
   ]
  },
  {
   "cell_type": "code",
   "execution_count": 2,
   "metadata": {
    "collapsed": false
   },
   "outputs": [],
   "source": [
    "def rand_net(shape=[2, 3, 1]):\n",
    "    \"Generate random weights for a network of the given shape.\"\n",
    "    return [random.normal(size=(l, r)) for l, r in zip(shape[:-1], shape[1:])]"
   ]
  },
  {
   "cell_type": "code",
   "execution_count": 3,
   "metadata": {
    "collapsed": false
   },
   "outputs": [],
   "source": [
    "# I define my sigmoid function to map to (-1, +1).\n",
    "sigmoid = np.vectorize(lambda x: 2.0/(1+np.exp(-x)) - 1.0)\n",
    "\n",
    "# The derivative of the sigmoid.\n",
    "d_sigmoid = np.vectorize(lambda x: 2.0*np.exp(-x) / (1.0 + np.exp(-x))**2)\n",
    "\n",
    "# Compute the derivative from the limit so we can test it.\n",
    "d_sigmoid2 = np.vectorize(lambda x: (sigmoid(x+1e-6) - sigmoid(x)) / 1e-6)\n",
    "assert np.allclose(d_sigmoid(0.7), d_sigmoid2(0.7))"
   ]
  },
  {
   "cell_type": "code",
   "execution_count": 4,
   "metadata": {
    "collapsed": true
   },
   "outputs": [],
   "source": [
    "def forward(input, net):\n",
    "    \"Propagate input through the net of weights and apply the activation function.\"\n",
    "    result = [input]\n",
    "    for weights in net:\n",
    "        input = sigmoid(np.einsum(\"i,ij->j\", input, weights))\n",
    "        result.append(input)\n",
    "        \n",
    "    return result"
   ]
  },
  {
   "cell_type": "markdown",
   "metadata": {},
   "source": [
    "For backward error propagation we want to compute the derivative of the cost with respect to each weight. Given the derivative of the cost to the output we can compute the previous layer's neurons and weights derivatives. Then iteratively from the last layer to the first treat each layer as the output to the previous one.\n",
    "\n",
    "To test is, compute the derivative from first principles by adding, in turn, a small delta to each weight and computing the change in the output."
   ]
  },
  {
   "cell_type": "code",
   "execution_count": 5,
   "metadata": {
    "collapsed": false
   },
   "outputs": [
    {
     "data": {
      "text/plain": [
       "[array([ 0.5,  1. ]),\n",
       " array([ 0.22127847,  0.29131261,  0.40113428]),\n",
       " array([ 0.39707297])]"
      ]
     },
     "metadata": {},
     "output_type": "display_data"
    },
    {
     "data": {
      "text/plain": [
       "[array([[ 0.08010889,  0.08672064,  0.08834929],\n",
       "        [ 0.16021779,  0.17344128,  0.17669858]]), array([[ 0.09319508],\n",
       "        [ 0.12269112],\n",
       "        [ 0.16894433]])]"
      ]
     },
     "metadata": {},
     "output_type": "display_data"
    },
    {
     "data": {
      "text/plain": [
       "[array([[ 0.08010889,  0.08672063,  0.08834928],\n",
       "        [ 0.16021776,  0.17344124,  0.17669853]]), array([[ 0.09319508],\n",
       "        [ 0.12269111],\n",
       "        [ 0.16894432]])]"
      ]
     },
     "metadata": {},
     "output_type": "display_data"
    }
   ],
   "source": [
    "def backward(d_out, neurons, net):\n",
    "    \"Compute the derivative of the weights with respect to the output derivative.\"\n",
    "    reverse = []\n",
    "    for layer, weights in reversed(list(zip(neurons[:-1], net))):\n",
    "        d_common = d_out * d_sigmoid(np.einsum(\"i,ij->j\", layer, weights))\n",
    "        d_out = np.einsum(\"ij,j->i\", weights, d_common)\n",
    "        reverse.append(np.einsum(\"i,j->ij\", layer, d_common))\n",
    "        \n",
    "    return list(reversed(reverse))\n",
    "\n",
    "def backward2(d_out, neurons, net):\n",
    "    \"Compute the derivative by brute force.\"\n",
    "    result = []\n",
    "    for input in neurons[:-1]:\n",
    "        out = forward(input, net)[-1]\n",
    "        epsilon = 1e-6\n",
    "        shape = net[0].shape\n",
    "        d_weights = np.full(shape, np.nan)\n",
    "        \n",
    "        for i in range(shape[0]):\n",
    "            for j in range(shape[1]):\n",
    "                perturbed_weights = net[0].copy()\n",
    "                perturbed_weights[i, j] += epsilon\n",
    "                perturbed_out = forward(input, [perturbed_weights]+net[1:])[-1]\n",
    "                perturbed_diff = np.dot((perturbed_out - out), d_out)\n",
    "                d_weights[i, j] = perturbed_diff / epsilon\n",
    "        \n",
    "        result.append(d_weights)\n",
    "        net = net[1:]\n",
    "        \n",
    "    return result\n",
    "        \n",
    "# Example net, so we can unit test our backward function.\n",
    "test_net = [np.array([[0.1, 0.2, 0.3], [0.4, 0.5, 0.7]]), np.array([[0.8], [0.9], [1.0]])]\n",
    "test_in = np.array([0.5, 1.0])\n",
    "test_d_out = np.array([1.0])\n",
    "\n",
    "test_neurons = forward(test_in, test_net)\n",
    "test_d_weights = backward(test_d_out, test_neurons, test_net)\n",
    "test_d_weights2 = backward2(test_d_out, test_neurons, test_net)\n",
    "\n",
    "display(test_neurons)\n",
    "display(test_d_weights)\n",
    "display(test_d_weights2)\n",
    "\n",
    "assert all(starmap(np.allclose, zip(test_d_weights, test_d_weights2)))"
   ]
  },
  {
   "cell_type": "markdown",
   "metadata": {},
   "source": [
    "Some examples on how the above Einstein summation operations work."
   ]
  },
  {
   "cell_type": "code",
   "execution_count": 6,
   "metadata": {
    "collapsed": false
   },
   "outputs": [
    {
     "name": "stdout",
     "output_type": "stream",
     "text": [
      "Matrix multiplication:\n"
     ]
    },
    {
     "data": {
      "text/plain": [
       "array([ 0.9,  1.2,  1.5])"
      ]
     },
     "metadata": {},
     "output_type": "display_data"
    },
    {
     "name": "stdout",
     "output_type": "stream",
     "text": [
      "Dot 2D with 1D:\n"
     ]
    },
    {
     "data": {
      "text/plain": [
       "array([140, 320])"
      ]
     },
     "metadata": {},
     "output_type": "display_data"
    },
    {
     "name": "stdout",
     "output_type": "stream",
     "text": [
      "Matrix multiply 1D.T with 1D\n"
     ]
    },
    {
     "data": {
      "text/plain": [
       "array([[ 1.,  2.,  3.],\n",
       "       [ 2.,  4.,  6.]])"
      ]
     },
     "metadata": {},
     "output_type": "display_data"
    }
   ],
   "source": [
    "a = np.array([0.1, 0.2])\n",
    "b = np.array([[1, 2, 3],\n",
    "              [4, 5, 6]])\n",
    "c = np.array([10, 20, 30])\n",
    "\n",
    "print(\"Matrix multiplication:\")\n",
    "display(np.einsum(\"i,ij->j\", a, b))\n",
    "\n",
    "print(\"Dot 2D with 1D:\")\n",
    "display(np.einsum(\"ij,j->i\", b, c))\n",
    "\n",
    "print(\"Matrix multiply 1D.T with 1D\")\n",
    "display(np.einsum(\"i,j->ij\", a, c))"
   ]
  },
  {
   "cell_type": "markdown",
   "metadata": {},
   "source": [
    "Define a cost function and it's deriviative to finish up."
   ]
  },
  {
   "cell_type": "code",
   "execution_count": 7,
   "metadata": {
    "collapsed": false
   },
   "outputs": [
    {
     "data": {
      "text/plain": [
       "array([-0.68599434,  0.17149859])"
      ]
     },
     "metadata": {},
     "output_type": "display_data"
    },
    {
     "data": {
      "text/plain": [
       "array([-0.68599429,  0.17149939])"
      ]
     },
     "metadata": {},
     "output_type": "display_data"
    }
   ],
   "source": [
    "def cost(out, expected_out):\n",
    "    return np.mean((out - expected_out)**2)**0.5\n",
    "\n",
    "def d_cost(out, expected_out):\n",
    "    diff = out - expected_out\n",
    "    return diff/len(out) / (np.mean(diff**2))**0.5\n",
    "\n",
    "def d_cost2(out, expected_out):\n",
    "    result = []\n",
    "    epsilon = 1e-6\n",
    "    \n",
    "    original_cost = cost(out, expected_out)\n",
    "    for i in range(len(out)):\n",
    "        perturbed_out = out.copy()\n",
    "        perturbed_out[i] += epsilon\n",
    "        perturbed_cost = cost(perturbed_out, expected_out)\n",
    "        result.append((perturbed_cost-original_cost)/epsilon)\n",
    "    return np.array(result)\n",
    "\n",
    "# Let's test our cost derivative.\n",
    "test_out, test_expected_out = np.array([0.1, 0.6]), np.array([0.5, 0.5])\n",
    "\n",
    "test_d_cost = d_cost(test_out, test_expected_out)\n",
    "test_d_cost2 = d_cost2(test_out, test_expected_out)\n",
    "\n",
    "display(test_d_cost)\n",
    "display(test_d_cost2)\n",
    "\n",
    "assert np.allclose(test_d_cost, test_d_cost2)"
   ]
  },
  {
   "cell_type": "code",
   "execution_count": 8,
   "metadata": {
    "collapsed": false
   },
   "outputs": [],
   "source": [
    "def train_net(inputs, shape, expected_outs, learning_rate=0.01, iterations=10000):\n",
    "    \"Train a neural network with the `shape` to map from the inputs to the expected outputs.\"\n",
    "\n",
    "    # Compute the outputs if given a function.\n",
    "    if callable(expected_outs):\n",
    "        expected_outs = np.vectorize(expected_outs)(*inputs.T)\n",
    "    \n",
    "    # Start from random weights.\n",
    "    net = rand_net(shape)\n",
    "    \n",
    "    # Store the cost for each application.\n",
    "    costs = []\n",
    "    \n",
    "    try:\n",
    "        for i, input, expected_out in zip(range(iterations), cycle(inputs), cycle(expected_outs)):\n",
    "            # Compute a pass for the current input.\n",
    "            neurons = forward(input, net)\n",
    "            out = neurons[-1]\n",
    "            \n",
    "            costs.append(cost(out, expected_out))\n",
    "            \n",
    "            # Compute the error gradient for the current pass.\n",
    "            d_net = backward(d_cost(out, expected_out), neurons, net)\n",
    "            \n",
    "            # Move \"away\" from the error by gradient descent.\n",
    "            for weights, d_weights in zip(net, d_net):\n",
    "                weights -= d_weights * learning_rate\n",
    "\n",
    "            if i % 2000 == 0:\n",
    "                print(\"Cost is {:.6f} at step {}\".format(costs[i], i))\n",
    "                \n",
    "    except KeyboardInterrupt:\n",
    "        pass\n",
    "    \n",
    "    def run_net(input):\n",
    "        return forward(np.array(input), net)[-1]\n",
    "\n",
    "    return run_net, net, costs"
   ]
  },
  {
   "cell_type": "markdown",
   "metadata": {},
   "source": [
    "Learn Operations\n",
    "================\n",
    "\n",
    "Learn some basic operations with our network. Note that I scale the outputs so they fit nicely in the [-1, +1] range which the sigmoid activation function allows."
   ]
  },
  {
   "cell_type": "code",
   "execution_count": 9,
   "metadata": {
    "collapsed": false,
    "scrolled": false
   },
   "outputs": [
    {
     "name": "stdout",
     "output_type": "stream",
     "text": [
      "Cost is 0.095980 at step 0\n",
      "Cost is 0.064368 at step 2000\n",
      "Cost is 0.035345 at step 4000\n",
      "Cost is 0.001956 at step 6000\n",
      "Cost is 0.000108 at step 8000\n"
     ]
    },
    {
     "data": {
      "image/png": "[encoded data removed]",
      "text/plain": [
       "<matplotlib.figure.Figure at 0x1f2caf67710>"
      ]
     },
     "metadata": {},
     "output_type": "display_data"
    },
    {
     "name": "stdout",
     "output_type": "stream",
     "text": [
      "[ 0.0097627   0.04303787] : [ 0.05292178] 0.0528005740599\n",
      "[ 0.02055268  0.00897664] : [ 0.02961793] 0.0295293118137\n",
      "[-0.01526904  0.02917882] : [ 0.01396564] 0.0139097824811\n",
      "[-0.01248256  0.0783546 ] : [ 0.0659563] 0.065872042409\n",
      "[ 0.09273255 -0.0233117 ] : [ 0.06945009] 0.0694208558654\n",
      "[ 0.05834501  0.00577898] : [ 0.06421753] 0.0641239915671\n",
      "[ 0.01360891  0.08511933] : [ 0.09862487] 0.0987282398773\n",
      "[-0.08579279 -0.08257414] : [-0.16694071] -0.16836692842\n",
      "[-0.09595632  0.06652397] : [-0.0294298] -0.0294323514023\n",
      "[ 0.05563135  0.07400243] : [ 0.12914991] 0.129633779839\n"
     ]
    }
   ],
   "source": [
    "add = lambda a, b: a+b\n",
    "add_in = random.uniform(-0.1, +0.1, size=(1000, 2))\n",
    "\n",
    "learned_add, add_net, add_costs = train_net(add_in, [2, 6, 1], add)\n",
    "\n",
    "pd.Series(add_costs).rolling(100).mean().plot()\n",
    "plt.show()\n",
    "\n",
    "for input in add_in[:10]:\n",
    "    print(input, \":\", learned_add(input), add(*input))"
   ]
  },
  {
   "cell_type": "markdown",
   "metadata": {},
   "source": [
    "We *need* to add a constant somewhere in the network, otherwise the output must always pass through 0..."
   ]
  },
  {
   "cell_type": "code",
   "execution_count": 10,
   "metadata": {
    "collapsed": false
   },
   "outputs": [],
   "source": [
    "def add_basis(inputs, func):\n",
    "    return np.concatenate([inputs, np.ones(len(inputs))[np.newaxis].T], axis=1), lambda *args: func(*args[:-1])"
   ]
  },
  {
   "cell_type": "code",
   "execution_count": 11,
   "metadata": {
    "collapsed": false
   },
   "outputs": [
    {
     "name": "stdout",
     "output_type": "stream",
     "text": [
      "Cost is 0.021623 at step 0\n",
      "Cost is 0.001166 at step 2000\n",
      "Cost is 0.001688 at step 4000\n",
      "Cost is 0.001717 at step 6000\n",
      "Cost is 0.002749 at step 8000\n"
     ]
    },
    {
     "data": {
      "image/png": "[encoded data removed]",
      "text/plain": [
       "<matplotlib.figure.Figure at 0x1f2cd8cf438>"
      ]
     },
     "metadata": {},
     "output_type": "display_data"
    },
    {
     "name": "stdout",
     "output_type": "stream",
     "text": [
      "[ 1.  1.  1.] : [ 0.50113381] expected: 0.5 cost: 0.0011338095104\n",
      "[ 1. -1.  1.] : [-0.49889975] expected: -0.5 cost: 0.00110024520348\n",
      "[-1.  1.  1.] : [-0.50151462] expected: -0.5 cost: 0.00151461781509\n",
      "[-1. -1.  1.] : [-0.50036777] expected: -0.5 cost: 0.000367772408922\n"
     ]
    }
   ],
   "source": [
    "bools_in = np.array([[+1, +1], [+1, -1], [-1, +1], [-1, -1]], dtype=float)\n",
    "and_ = lambda a, b: +0.5 if a >= 0 and b >= 0 else -0.5\n",
    "\n",
    "bools_in, and_ = add_basis(bools_in, and_)\n",
    "\n",
    "learned_and, and_net, and_costs = train_net(bools_in, [3, 3, 1], and_)\n",
    "\n",
    "pd.Series(and_costs).rolling(100).mean().plot()\n",
    "plt.show()\n",
    "\n",
    "for input in bools_in:\n",
    "    out = learned_and(input)\n",
    "    exp_out = and_(*input)\n",
    "    print(input, \":\", out, \"expected:\", exp_out, \"cost:\", cost(out, exp_out))"
   ]
  },
  {
   "cell_type": "markdown",
   "metadata": {},
   "source": [
    "Curiously it doesn't work very nicely for multiplication. Maybe we need to add a basis at each layer?\n",
    "\n",
    "Obviously it'll work after log normalizing since we got addition right above."
   ]
  },
  {
   "cell_type": "code",
   "execution_count": 12,
   "metadata": {
    "collapsed": false,
    "scrolled": false
   },
   "outputs": [
    {
     "name": "stdout",
     "output_type": "stream",
     "text": [
      "Cost is 0.775600 at step 0\n",
      "Cost is 0.037663 at step 2000\n",
      "Cost is 0.260670 at step 4000\n",
      "Cost is 0.355997 at step 6000\n",
      "Cost is 0.057340 at step 8000\n"
     ]
    },
    {
     "data": {
      "image/png": "[encoded data removed]",
      "text/plain": [
       "<matplotlib.figure.Figure at 0x1f2cb0b6048>"
      ]
     },
     "metadata": {},
     "output_type": "display_data"
    },
    {
     "name": "stdout",
     "output_type": "stream",
     "text": [
      "[ 0.0957714  -0.02076309  1.        ] : [ 0.02020954] expected: -0.0994254963684 cost: 0.119635039604\n",
      "[ 0.02038874 -0.0873262   1.        ] : [ 0.01929392] expected: -0.0890235567742 cost: 0.108317472263\n",
      "[-0.01802851  0.04450002  1.        ] : [-0.00080227] expected: -0.040113450568 cost: 0.0393111828119\n",
      "[-0.05225223  0.08876552  1.        ] : [-0.01303686] expected: -0.231909820838 cost: 0.218872957198\n",
      "[ 0.03735667 -0.04248492  1.        ] : [ 0.01668244] expected: -0.0793547707204 cost: 0.0960372106492\n",
      "[ 0.05379978 -0.08336705  1.        ] : [ 0.02142637] expected: -0.224256454659 cost: 0.245682826797\n",
      "[ 0.09495488 -0.09014295  1.        ] : [ 0.02567375] expected: -0.427975661681 cost: 0.453649414889\n",
      "[ 0.08669118 -0.04942922  1.        ] : [ 0.02198964] expected: -0.214253885329 cost: 0.236243528998\n",
      "[ 0.05156482 -0.09998526  1.        ] : [ 0.02214005] expected: -0.25778610471 cost: 0.279926158496\n",
      "[-0.04915198  0.04982012  1.        ] : [-0.00397562] expected: -0.122437885751 cost: 0.118462270094\n"
     ]
    }
   ],
   "source": [
    "mul_in = random.uniform(-0.1, +0.1, size=(10000, 2))\n",
    "mul = lambda a, b: a*b*50\n",
    "\n",
    "mul_in, mul = add_basis(mul_in, mul)\n",
    "\n",
    "# mul_net_shape = [3, 50, 50, 50, 50, 50, 50, 50, 50, 50, 50, 50, 50, 50, 1]\n",
    "# mul_net_shape = [3, 1000, 1]\n",
    "mul_net_shape = [3, 10, 10, 10, 1]\n",
    "learned_mul, mul_net, mul_costs = train_net(mul_in, mul_net_shape, mul)\n",
    "\n",
    "pd.Series(mul_costs).rolling(100).mean().clip(upper=0.2).plot()\n",
    "plt.show()\n",
    "\n",
    "for input in mul_in[:10]:\n",
    "    out = learned_mul(input)\n",
    "    exp_out = mul(*input)\n",
    "    print(input, \":\", out, \"expected:\", exp_out, \"cost:\", cost(out, exp_out))"
   ]
  }
 ],
 "metadata": {
  "kernelspec": {
   "display_name": "Python 3",
   "language": "python",
   "name": "python3"
  },
  "language_info": {
   "codemirror_mode": {
    "name": "ipython",
    "version": 3
   },
   "file_extension": ".py",
   "mimetype": "text/x-python",
   "name": "python",
   "nbconvert_exporter": "python",
   "pygments_lexer": "ipython3",
   "version": "3.5.2"
  }
 },
 "nbformat": 4,
 "nbformat_minor": 1
}
