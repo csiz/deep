{
 "cells": [
  {
   "cell_type": "code",
   "execution_count": 1,
   "metadata": {},
   "outputs": [],
   "source": [
    "from PIL import Image\n",
    "from io import BytesIO\n",
    "from bs4 import BeautifulSoup\n",
    "from base64 import b64decode\n",
    "import re"
   ]
  },
  {
   "cell_type": "code",
   "execution_count": 2,
   "metadata": {
    "collapsed": true
   },
   "outputs": [],
   "source": [
    "def gif_from_in(notebook, nr, filename):\n",
    "    def b64image(url):\n",
    "        prefix = \"data:image/png;base64,\"\n",
    "        assert url[:len(prefix)] == prefix\n",
    "        img_bytes = b64decode(url[len(prefix):])\n",
    "        return Image.open(BytesIO(img_bytes))\n",
    "\n",
    "    def make_soup(notebook):\n",
    "        with open(notebook) as html_file:\n",
    "            soup = BeautifulSoup(html_file, \"html5lib\")\n",
    "            return soup\n",
    "\n",
    "    def find_out_for_in(nr, soup):\n",
    "        code_cells = soup.findAll(class_=\"code_cell\")\n",
    "        for code_cell in code_cells:\n",
    "            input_prompt = code_cell.find(class_=\"input_prompt\")\n",
    "            input_nr = int(re.search(r\"\\[(\\d*)\\]\", input_prompt.text).group(1))\n",
    "            if input_nr == nr:\n",
    "                break\n",
    "        else:\n",
    "            return None\n",
    "\n",
    "        return code_cell.find(class_=\"output\")\n",
    "    \n",
    "    def images_from_out(out):\n",
    "        png_url64s = []\n",
    "        for output_area in out.find_all(class_=\"output_area\"):\n",
    "            png_divs = output_area.find_all(class_=\"output_png\")\n",
    "            for png_div in png_divs:\n",
    "                for img in png_div.find_all(\"img\"):\n",
    "                    png_url64s.append(img.attrs[\"src\"])\n",
    "\n",
    "        images = [b64image(png_url64) for png_url64 in png_url64s]\n",
    "        return images\n",
    "\n",
    "    def save_to_gif(filename, images):\n",
    "        images[0].save(filename, save_all=True, append_images=images[1:], duration=50, loop=2)\n",
    "    \n",
    "    soup = make_soup(notebook)\n",
    "    out = find_out_for_in(nr, soup)\n",
    "    images = images_from_out(out)\n",
    "    save_to_gif(filename, images)"
   ]
  },
  {
   "cell_type": "code",
   "execution_count": 3,
   "metadata": {},
   "outputs": [],
   "source": [
    "gif_from_in(\"./dlnd_face_generation.html\", 13, \"faces.gif\")"
   ]
  },
  {
   "cell_type": "code",
   "execution_count": 4,
   "metadata": {
    "collapsed": true
   },
   "outputs": [],
   "source": [
    "gif_from_in(\"./dlnd_face_generation.html\", 12, \"digits.gif\")"
   ]
  }
 ],
 "metadata": {
  "kernelspec": {
   "display_name": "Python 3",
   "language": "python",
   "name": "python3"
  },
  "language_info": {
   "codemirror_mode": {
    "name": "ipython",
    "version": 3
   },
   "file_extension": ".py",
   "mimetype": "text/x-python",
   "name": "python",
   "nbconvert_exporter": "python",
   "pygments_lexer": "ipython3",
   "version": "3.5.3"
  }
 },
 "nbformat": 4,
 "nbformat_minor": 2
}
