{
 "cells": [
  {
   "cell_type": "markdown",
   "metadata": {},
   "source": [
    "Neural Net from Scratch\n",
    "======================="
   ]
  },
  {
   "cell_type": "code",
   "execution_count": 1,
   "metadata": {
    "collapsed": false
   },
   "outputs": [],
   "source": [
    "import numpy as np\n",
    "from itertools import starmap, cycle\n",
    "import matplotlib.pyplot as plt\n",
    "%matplotlib inline\n",
    "import pandas as pd\n",
    "\n",
    "from IPython.display import clear_output, display\n",
    "\n",
    "def show(thing):\n",
    "    clear_output()\n",
    "    display(thing)\n",
    "    \n",
    "from numpy.random import RandomState\n",
    "random = RandomState(0)"
   ]
  },
  {
   "cell_type": "markdown",
   "metadata": {},
   "source": [
    "My network is a list of numpy 1D arrays for the neuron layers and 2D arrays for connection weights. The first neuron layer is the input and the last one will be the output. In between a layer with `n` neurons and one with `m` I define the weights as a 2D array of shape `(n, m)`. We can fully define the network by the list of weights which I'll name `net`."
   ]
  },
  {
   "cell_type": "code",
   "execution_count": 2,
   "metadata": {
    "collapsed": false
   },
   "outputs": [],
   "source": [
    "def rand_net(shape=[2, 3, 1]):\n",
    "    \"Generate random weights for a network of the given shape.\"\n",
    "    return [random.normal(size=(l, r)) for l, r in zip(shape[:-1], shape[1:])]"
   ]
  },
  {
   "cell_type": "code",
   "execution_count": 6,
   "metadata": {
    "collapsed": false
   },
   "outputs": [],
   "source": [
    "# I define my sigmoid function to map to (-1, +1).\n",
    "sigmoid = np.vectorize(lambda x: 2.0/(1+np.exp(-x)) - 1.0)\n",
    "\n",
    "# The derivative of the sigmoid.\n",
    "d_sigmoid = np.vectorize(lambda x: 2.0*np.exp(-x) / (1.0 + np.exp(-x))**2)\n",
    "\n",
    "# Compute the derivative from the limit so we can test it.\n",
    "d_sigmoid2 = np.vectorize(lambda x: (sigmoid(x+1e-6) - sigmoid(x)) / 1e-6)\n",
    "assert np.allclose(d_sigmoid(0.7), d_sigmoid2(0.7))"
   ]
  },
  {
   "cell_type": "code",
   "execution_count": null,
   "metadata": {
    "collapsed": true
   },
   "outputs": [],
   "source": [
    "np.array([1, 2, 3]) @ np.array([10, 20])"
   ]
  },
  {
   "cell_type": "markdown",
   "metadata": {},
   "source": []
  },
  {
   "cell_type": "code",
   "execution_count": 8,
   "metadata": {
    "collapsed": false
   },
   "outputs": [
    {
     "data": {
      "text/plain": [
       "[array([ 0.5,  1. ]),\n",
       " array([ 0.22127847,  0.29131261,  0.40113428]),\n",
       " array([ 0.39707297])]"
      ]
     },
     "metadata": {},
     "output_type": "display_data"
    },
    {
     "data": {
      "text/plain": [
       "[array([[ 0.08010889,  0.08672064,  0.08834929],\n",
       "        [ 0.16021779,  0.17344128,  0.17669858]]), array([[ 0.09319508],\n",
       "        [ 0.12269112],\n",
       "        [ 0.16894433]])]"
      ]
     },
     "metadata": {},
     "output_type": "display_data"
    },
    {
     "data": {
      "text/plain": [
       "[array([[ 0.08010889,  0.08672063,  0.08834928],\n",
       "        [ 0.16021776,  0.17344124,  0.17669853]]), array([[ 0.09319508],\n",
       "        [ 0.12269111],\n",
       "        [ 0.16894432]])]"
      ]
     },
     "metadata": {},
     "output_type": "display_data"
    }
   ],
   "source": [
    "def forward(input, net):\n",
    "    \"Propagate input through the net of weights.\"\n",
    "    result = [input]\n",
    "    for weights in net:\n",
    "        input = sigmoid(input @ weights)\n",
    "        result.append(input)\n",
    "        \n",
    "    return result\n",
    "\n",
    "def backward(d_out, neurons, net):\n",
    "    \"Compute the derivative of the weights with respect to the output derivative.\"\n",
    "    reverse = []\n",
    "    for layer, weights in reversed(list(zip(neurons[:-1], net))):\n",
    "        d_common = d_out * d_sigmoid(layer @ weights)\n",
    "        d_out = weights @ d_common\n",
    "        reverse.append(layer[np.newaxis].T * d_common[np.newaxis])\n",
    "        \n",
    "    return list(reversed(reverse))\n",
    "\n",
    "def backward2(d_out, neurons, net):\n",
    "    \"Compute the derivative by brute force.\"\n",
    "    result = []\n",
    "    for input in neurons[:-1]:\n",
    "        out = forward(input, net)[-1]\n",
    "        epsilon = 1e-6\n",
    "        shape = net[0].shape\n",
    "        d_weights = np.full(shape, np.nan)\n",
    "        \n",
    "        for i in range(shape[0]):\n",
    "            for j in range(shape[1]):\n",
    "                perturbed_weights = net[0].copy()\n",
    "                perturbed_weights[i, j] += epsilon\n",
    "                perturbed_out = forward(input, [perturbed_weights]+net[1:])[-1]\n",
    "                perturbed_diff = (perturbed_out - out) @ d_out\n",
    "                d_weights[i, j] = perturbed_diff / epsilon\n",
    "        \n",
    "        result.append(d_weights)\n",
    "        net = net[1:]\n",
    "        \n",
    "    return result\n",
    "        \n",
    "# Example net, so we can unit test our backward function.\n",
    "test_net = [np.array([[0.1, 0.2, 0.3], [0.4, 0.5, 0.7]]), np.array([[0.8], [0.9], [1.0]])]\n",
    "test_in = np.array([0.5, 1.0])\n",
    "test_d_out = np.array([1.0])\n",
    "\n",
    "test_neurons = forward(test_in, test_net)\n",
    "test_d_weights = backward(test_d_out, test_neurons, test_net)\n",
    "test_d_weights2 = backward2(test_d_out, test_neurons, test_net)\n",
    "\n",
    "display(test_neurons)\n",
    "display(test_d_weights)\n",
    "display(test_d_weights2)\n",
    "\n",
    "assert all(starmap(np.allclose, zip(test_d_weights, test_d_weights2)))"
   ]
  },
  {
   "cell_type": "code",
   "execution_count": 9,
   "metadata": {
    "collapsed": false
   },
   "outputs": [
    {
     "data": {
      "text/plain": [
       "array([-0.68599434,  0.17149859])"
      ]
     },
     "metadata": {},
     "output_type": "display_data"
    },
    {
     "data": {
      "text/plain": [
       "array([-0.68599429,  0.17149939])"
      ]
     },
     "metadata": {},
     "output_type": "display_data"
    }
   ],
   "source": [
    "def cost(out, expected_out):\n",
    "    return np.mean((out - expected_out)**2)**0.5\n",
    "\n",
    "def d_cost(out, expected_out):\n",
    "    diff = out - expected_out\n",
    "    return diff/len(out) / (np.mean(diff**2))**0.5\n",
    "\n",
    "def d_cost2(out, expected_out):\n",
    "    result = []\n",
    "    epsilon = 1e-6\n",
    "    \n",
    "    original_cost = cost(out, expected_out)\n",
    "    for i in range(len(out)):\n",
    "        perturbed_out = out.copy()\n",
    "        perturbed_out[i] += epsilon\n",
    "        perturbed_cost = cost(perturbed_out, expected_out)\n",
    "        result.append((perturbed_cost-original_cost)/epsilon)\n",
    "    return np.array(result)\n",
    "\n",
    "# Let's test our cost derivative.\n",
    "test_out, test_expected_out = np.array([0.1, 0.6]), np.array([0.5, 0.5])\n",
    "\n",
    "test_d_cost = d_cost(test_out, test_expected_out)\n",
    "test_d_cost2 = d_cost2(test_out, test_expected_out)\n",
    "\n",
    "display(test_d_cost)\n",
    "display(test_d_cost2)\n",
    "\n",
    "assert np.allclose(test_d_cost, test_d_cost2)"
   ]
  },
  {
   "cell_type": "code",
   "execution_count": 10,
   "metadata": {
    "collapsed": false
   },
   "outputs": [],
   "source": [
    "def train_net(inputs, shape, expected_outs):\n",
    "    learning_rate = 0.01\n",
    "    iterations = 10000\n",
    "    \n",
    "    if callable(expected_outs):\n",
    "        expected_outs = np.vectorize(expected_outs)(*inputs.T)\n",
    "    \n",
    "    net = rand_net(shape)\n",
    "    \n",
    "    costs = []\n",
    "    \n",
    "    try:\n",
    "        for i, input, expected_out in zip(range(iterations), cycle(inputs), cycle(expected_outs)):\n",
    "            neurons = forward(input, net)\n",
    "            out = neurons[-1]\n",
    "            \n",
    "            costs.append(cost(out, expected_out))\n",
    "            \n",
    "            d_net = backward(d_cost(out, expected_out), neurons, net)\n",
    "\n",
    "            for weights, d_weights in zip(net, d_net):\n",
    "                weights -= d_weights * learning_rate\n",
    "\n",
    "            if i % 500 == 0:\n",
    "                print(\"Cost is {:.6f} at step {}\".format(costs[i], i))\n",
    "                \n",
    "    except KeyboardInterrupt:\n",
    "        pass\n",
    "    \n",
    "    def run_net(input):\n",
    "        return forward(np.array(input), net)[-1]\n",
    "\n",
    "    return run_net, net, costs"
   ]
  },
  {
   "cell_type": "code",
   "execution_count": 7,
   "metadata": {
    "collapsed": false,
    "scrolled": false
   },
   "outputs": [
    {
     "name": "stdout",
     "output_type": "stream",
     "text": [
      "Cost is 0.095980 at step 0\n",
      "Cost is 0.115820 at step 500\n",
      "Cost is 0.079466 at step 1000\n",
      "Cost is 0.096189 at step 1500\n",
      "Cost is 0.064368 at step 2000\n",
      "Cost is 0.077595 at step 2500\n",
      "Cost is 0.049956 at step 3000\n",
      "Cost is 0.058798 at step 3500\n",
      "Cost is 0.035345 at step 4000\n",
      "Cost is 0.038950 at step 4500\n",
      "Cost is 0.019829 at step 5000\n",
      "Cost is 0.016650 at step 5500\n",
      "Cost is 0.001956 at step 6000\n",
      "Cost is 0.000101 at step 6500\n",
      "Cost is 0.000111 at step 7000\n",
      "Cost is 0.000020 at step 7500\n",
      "Cost is 0.000108 at step 8000\n",
      "Cost is 0.000007 at step 8500\n",
      "Cost is 0.000123 at step 9000\n",
      "Cost is 0.000027 at step 9500\n"
     ]
    },
    {
     "data": {
      "image/png": "[encoded data removed]",
      "text/plain": [
       "<matplotlib.figure.Figure at 0x1f3f13fc898>"
      ]
     },
     "metadata": {},
     "output_type": "display_data"
    },
    {
     "name": "stdout",
     "output_type": "stream",
     "text": [
      "[ 0.0097627   0.04303787] : [ 0.05292178] 0.0528005740599\n",
      "[ 0.02055268  0.00897664] : [ 0.02961793] 0.0295293118137\n",
      "[-0.01526904  0.02917882] : [ 0.01396564] 0.0139097824811\n",
      "[-0.01248256  0.0783546 ] : [ 0.0659563] 0.065872042409\n",
      "[ 0.09273255 -0.0233117 ] : [ 0.06945009] 0.0694208558654\n",
      "[ 0.05834501  0.00577898] : [ 0.06421753] 0.0641239915671\n",
      "[ 0.01360891  0.08511933] : [ 0.09862487] 0.0987282398773\n",
      "[-0.08579279 -0.08257414] : [-0.16694071] -0.16836692842\n",
      "[-0.09595632  0.06652397] : [-0.0294298] -0.0294323514023\n",
      "[ 0.05563135  0.07400243] : [ 0.12914991] 0.129633779839\n"
     ]
    }
   ],
   "source": [
    "add = lambda a, b: a+b\n",
    "add_in = random.uniform(-0.1, +0.1, size=(1000, 2))\n",
    "\n",
    "learned_add, add_net, add_costs = train_net(add_in, [2, 6, 1], add)\n",
    "\n",
    "pd.Series(add_costs).rolling(100).mean().plot()\n",
    "plt.show()\n",
    "\n",
    "for input in add_in[:10]:\n",
    "    print(input, \":\", learned_add(input), add(*input))"
   ]
  },
  {
   "cell_type": "code",
   "execution_count": 21,
   "metadata": {
    "collapsed": false
   },
   "outputs": [
    {
     "name": "stdout",
     "output_type": "stream",
     "text": [
      "Cost is 0.615433 at step 0\n",
      "Cost is 0.003183 at step 500\n",
      "Cost is 0.001609 at step 1000\n",
      "Cost is 0.002955 at step 1500\n",
      "Cost is 0.002635 at step 2000\n",
      "Cost is 0.002571 at step 2500\n",
      "Cost is 0.000996 at step 3000\n",
      "Cost is 0.000514 at step 3500\n",
      "Cost is 0.000246 at step 4000\n",
      "Cost is 0.001996 at step 4500\n",
      "Cost is 0.001730 at step 5000\n",
      "Cost is 0.002440 at step 5500\n",
      "Cost is 0.002568 at step 6000\n",
      "Cost is 0.001180 at step 6500\n",
      "Cost is 0.000281 at step 7000\n",
      "Cost is 0.002984 at step 7500\n",
      "Cost is 0.001335 at step 8000\n",
      "Cost is 0.000799 at step 8500\n",
      "Cost is 0.000268 at step 9000\n",
      "Cost is 0.001237 at step 9500\n"
     ]
    },
    {
     "data": {
      "image/png": "[encoded data removed]",
      "text/plain": [
       "<matplotlib.figure.Figure at 0x15cd21965f8>"
      ]
     },
     "metadata": {},
     "output_type": "display_data"
    },
    {
     "name": "stdout",
     "output_type": "stream",
     "text": [
      "[ 1.  1.  1.] : [ 0.5019302] 0.5  ...  0.00193020006104\n",
      "[ 1. -1.  1.] : [-0.49751505] -0.5  ...  0.0024849482762\n",
      "[-1.  1.  1.] : [-0.50142448] -0.5  ...  0.00142447540514\n",
      "[-1. -1.  1.] : [-0.49974186] -0.5  ...  0.000258136798129\n"
     ]
    }
   ],
   "source": [
    "bools_in = np.array([[+1, +1, 1], [+1, -1, 1], [-1, +1, 1], [-1, -1, 1]], dtype=float)\n",
    "and_ = lambda a, b, c: +0.5 if a >= 0 and b >= 0 else -0.5\n",
    "\n",
    "learned_and, and_net, and_costs = train_net(bools_in, [3, 3, 1], and_)\n",
    "\n",
    "pd.Series(and_costs).rolling(100).mean().plot()\n",
    "plt.show()\n",
    "\n",
    "for input in bools_in:\n",
    "    out = learned_and(input)\n",
    "    exp_out = and_(*input)\n",
    "    print(input, \":\", out, exp_out, \" ... \", cost(out, exp_out))"
   ]
  },
  {
   "cell_type": "code",
   "execution_count": 9,
   "metadata": {
    "collapsed": false,
    "scrolled": false
   },
   "outputs": [
    {
     "name": "stdout",
     "output_type": "stream",
     "text": [
      "Cost is 0.077625 at step 0\n",
      "Cost is 0.000513 at step 500\n",
      "Cost is 0.004619 at step 1000\n",
      "Cost is 0.003933 at step 1500\n",
      "Cost is 0.001773 at step 2000\n",
      "Cost is 0.001375 at step 2500\n",
      "Cost is 0.000816 at step 3000\n",
      "Cost is 0.001159 at step 3500\n",
      "Cost is 0.000042 at step 4000\n",
      "Cost is 0.003017 at step 4500\n",
      "Cost is 0.000041 at step 5000\n",
      "Cost is 0.000164 at step 5500\n",
      "Cost is 0.007411 at step 6000\n",
      "Cost is 0.002706 at step 6500\n",
      "Cost is 0.000679 at step 7000\n",
      "Cost is 0.000253 at step 7500\n",
      "Cost is 0.002540 at step 8000\n",
      "Cost is 0.002479 at step 8500\n",
      "Cost is 0.000478 at step 9000\n",
      "Cost is 0.002958 at step 9500\n"
     ]
    },
    {
     "data": {
      "image/png": "[encoded data removed]",
      "text/plain": [
       "<matplotlib.figure.Figure at 0x1f3f3ce7c18>"
      ]
     },
     "metadata": {},
     "output_type": "display_data"
    },
    {
     "name": "stdout",
     "output_type": "stream",
     "text": [
      "[-0.00522522  0.00887655] : [ 0.00158009] -0.00463819641677\n",
      "[ 0.00373567 -0.00424849] : [-0.00108292] -0.00158709541441\n",
      "[ 0.00537998 -0.0083367 ] : [-0.00155516] -0.00448512909318\n",
      "[ 0.00949549 -0.00901429] : [-0.00153263] -0.00855951323361\n",
      "[ 0.00866912 -0.00494292] : [-0.00154298] -0.00428507770658\n",
      "[ 0.00515648 -0.00999853] : [-0.00161967] -0.00515572209419\n",
      "[-0.0049152   0.00498201] : [ 0.0012631] -0.00244875771502\n",
      "[ 0.00064672 -0.00770096] : [-0.00136037] -0.000498037383528\n",
      "[-0.00212741 -0.00248901] : [-0.0002203] 0.000529513869215\n",
      "[ 0.00136324  0.00335954] : [ 0.00046626] 0.000457987769193\n"
     ]
    }
   ],
   "source": [
    "mul = lambda a, b: a*b*100\n",
    "mul_in = random.uniform(-0.01, +0.01, size=(10000, 2))\n",
    "\n",
    "learned_mul, mul_net, mul_costs = train_net(mul_in, [2, 20, 20, 20, 20, 1], mul)\n",
    "\n",
    "pd.Series(mul_costs).rolling(100).mean().plot()\n",
    "plt.show()\n",
    "\n",
    "for input in mul_in[:10]:\n",
    "    print(input, \":\", learned_mul(input), mul(*input))"
   ]
  }
 ],
 "metadata": {
  "kernelspec": {
   "display_name": "Python 3",
   "language": "python",
   "name": "python3"
  },
  "language_info": {
   "codemirror_mode": {
    "name": "ipython",
    "version": 3
   },
   "file_extension": ".py",
   "mimetype": "text/x-python",
   "name": "python",
   "nbconvert_exporter": "python",
   "pygments_lexer": "ipython3",
   "version": "3.5.2"
  }
 },
 "nbformat": 4,
 "nbformat_minor": 1
}
