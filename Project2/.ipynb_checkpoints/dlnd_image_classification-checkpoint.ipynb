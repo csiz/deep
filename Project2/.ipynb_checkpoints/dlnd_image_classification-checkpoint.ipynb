{
 "cells": [
  {
   "cell_type": "markdown",
   "metadata": {
    "collapsed": true,
    "deletable": true,
    "editable": true
   },
   "source": [
    "# Image Classification\n",
    "In this project, you'll classify images from the [CIFAR-10 dataset](https://www.cs.toronto.edu/~kriz/cifar.html).  The dataset consists of airplanes, dogs, cats, and other objects. You'll preprocess the images, then train a convolutional neural network on all the samples. The images need to be normalized and the labels need to be one-hot encoded.  You'll get to apply what you learned and build a convolutional, max pooling, dropout, and fully connected layers.  At the end, you'll get to see your neural network's predictions on the sample images.\n",
    "## Get the Data\n",
    "Run the following cell to download the [CIFAR-10 dataset for python](https://www.cs.toronto.edu/~kriz/cifar-10-python.tar.gz)."
   ]
  },
  {
   "cell_type": "code",
   "execution_count": 1,
   "metadata": {
    "collapsed": false,
    "deletable": true,
    "editable": true
   },
   "outputs": [
    {
     "name": "stdout",
     "output_type": "stream",
     "text": [
      "All files found!\n"
     ]
    }
   ],
   "source": [
    "\"\"\"\n",
    "DON'T MODIFY ANYTHING IN THIS CELL THAT IS BELOW THIS LINE\n",
    "\"\"\"\n",
    "from urllib.request import urlretrieve\n",
    "from os.path import isfile, isdir\n",
    "from tqdm import tqdm\n",
    "import problem_unittests as tests\n",
    "import tarfile\n",
    "\n",
    "cifar10_dataset_folder_path = 'cifar-10-batches-py'\n",
    "\n",
    "class DLProgress(tqdm):\n",
    "    last_block = 0\n",
    "\n",
    "    def hook(self, block_num=1, block_size=1, total_size=None):\n",
    "        self.total = total_size\n",
    "        self.update((block_num - self.last_block) * block_size)\n",
    "        self.last_block = block_num\n",
    "\n",
    "if not isfile('cifar-10-python.tar.gz'):\n",
    "    with DLProgress(unit='B', unit_scale=True, miniters=1, desc='CIFAR-10 Dataset') as pbar:\n",
    "        urlretrieve(\n",
    "            'https://www.cs.toronto.edu/~kriz/cifar-10-python.tar.gz',\n",
    "            'cifar-10-python.tar.gz',\n",
    "            pbar.hook)\n",
    "\n",
    "if not isdir(cifar10_dataset_folder_path):\n",
    "    with tarfile.open('cifar-10-python.tar.gz') as tar:\n",
    "        tar.extractall()\n",
    "        tar.close()\n",
    "\n",
    "\n",
    "tests.test_folder_path(cifar10_dataset_folder_path)"
   ]
  },
  {
   "cell_type": "markdown",
   "metadata": {
    "deletable": true,
    "editable": true
   },
   "source": [
    "## Explore the Data\n",
    "The dataset is broken into batches to prevent your machine from running out of memory.  The CIFAR-10 dataset consists of 5 batches, named `data_batch_1`, `data_batch_2`, etc.. Each batch contains the labels and images that are one of the following:\n",
    "* airplane\n",
    "* automobile\n",
    "* bird\n",
    "* cat\n",
    "* deer\n",
    "* dog\n",
    "* frog\n",
    "* horse\n",
    "* ship\n",
    "* truck\n",
    "\n",
    "Understanding a dataset is part of making predictions on the data.  Play around with the code cell below by changing the `batch_id` and `sample_id`. The `batch_id` is the id for a batch (1-5). The `sample_id` is the id for a image and label pair in the batch.\n",
    "\n",
    "Ask yourself \"What are all possible labels?\", \"What is the range of values for the image data?\", \"Are the labels in order or random?\".  Answers to questions like these will help you preprocess the data and end up with better predictions."
   ]
  },
  {
   "cell_type": "code",
   "execution_count": 2,
   "metadata": {
    "collapsed": false,
    "deletable": true,
    "editable": true
   },
   "outputs": [
    {
     "name": "stdout",
     "output_type": "stream",
     "text": [
      "\n",
      "Stats of batch 1:\n",
      "Samples: 10000\n",
      "Label Counts: {0: 1005, 1: 974, 2: 1032, 3: 1016, 4: 999, 5: 937, 6: 1030, 7: 1001, 8: 1025, 9: 981}\n",
      "First 20 Labels: [6, 9, 9, 4, 1, 1, 2, 7, 8, 3, 4, 7, 7, 2, 9, 9, 9, 3, 2, 6]\n",
      "\n",
      "Example of Image 33:\n",
      "Image - Min Value: 1 Max Value: 239\n",
      "Image - Shape: (32, 32, 3)\n",
      "Label - Label Id: 3 Name: cat\n"
     ]
    },
    {
     "data": {
      "image/png": "[encoded data removed]",
      "text/plain": [
       "<matplotlib.figure.Figure at 0x201d25966d8>"
      ]
     },
     "metadata": {
      "image/png": {
       "height": 250,
       "width": 253
      }
     },
     "output_type": "display_data"
    }
   ],
   "source": [
    "%matplotlib inline\n",
    "%config InlineBackend.figure_format = 'retina'\n",
    "\n",
    "import helper\n",
    "import numpy as np\n",
    "\n",
    "# Explore the dataset\n",
    "batch_id = 1\n",
    "sample_id = 33\n",
    "helper.display_stats(cifar10_dataset_folder_path, batch_id, sample_id)"
   ]
  },
  {
   "cell_type": "markdown",
   "metadata": {
    "deletable": true,
    "editable": true
   },
   "source": [
    "## Implement Preprocess Functions\n",
    "### Normalize\n",
    "In the cell below, implement the `normalize` function to take in image data, `x`, and return it as a normalized Numpy array. The values should be in the range of 0 to 1, inclusive.  The return object should be the same shape as `x`."
   ]
  },
  {
   "cell_type": "code",
   "execution_count": 3,
   "metadata": {
    "collapsed": false,
    "deletable": true,
    "editable": true
   },
   "outputs": [
    {
     "name": "stdout",
     "output_type": "stream",
     "text": [
      "Tests Passed\n"
     ]
    }
   ],
   "source": [
    "def normalize(x):\n",
    "    \"\"\"\n",
    "    Normalize a list of sample image data in the range of 0 to 1\n",
    "    : x: List of image data.  The image shape is (32, 32, 3)\n",
    "    : return: Numpy array of normalize data\n",
    "    \"\"\"\n",
    "    \n",
    "    return np.array(x) / 256\n",
    "\n",
    "\n",
    "\"\"\"\n",
    "DON'T MODIFY ANYTHING IN THIS CELL THAT IS BELOW THIS LINE\n",
    "\"\"\"\n",
    "tests.test_normalize(normalize)"
   ]
  },
  {
   "cell_type": "markdown",
   "metadata": {
    "deletable": true,
    "editable": true
   },
   "source": [
    "### One-hot encode\n",
    "Just like the previous code cell, you'll be implementing a function for preprocessing.  This time, you'll implement the `one_hot_encode` function. The input, `x`, are a list of labels.  Implement the function to return the list of labels as One-Hot encoded Numpy array.  The possible values for labels are 0 to 9. The one-hot encoding function should return the same encoding for each value between each call to `one_hot_encode`.  Make sure to save the map of encodings outside the function.\n",
    "\n",
    "Hint: Don't reinvent the wheel."
   ]
  },
  {
   "cell_type": "code",
   "execution_count": 4,
   "metadata": {
    "collapsed": false,
    "deletable": true,
    "editable": true
   },
   "outputs": [
    {
     "name": "stdout",
     "output_type": "stream",
     "text": [
      "Tests Passed\n"
     ]
    }
   ],
   "source": [
    "import tensorflow as tf\n",
    "\n",
    "def one_hot_encode(x):\n",
    "    \"\"\"\n",
    "    One hot encode a list of sample labels. Return a one-hot encoded vector for each label.\n",
    "    : x: List of sample Labels\n",
    "    : return: Numpy array of one-hot encoded labels\n",
    "    \"\"\"\n",
    "    with tf.Session():\n",
    "        return tf.one_hot(x, depth=10).eval()\n",
    "\n",
    "\n",
    "\"\"\"\n",
    "DON'T MODIFY ANYTHING IN THIS CELL THAT IS BELOW THIS LINE\n",
    "\"\"\"\n",
    "tests.test_one_hot_encode(one_hot_encode)"
   ]
  },
  {
   "cell_type": "markdown",
   "metadata": {
    "deletable": true,
    "editable": true
   },
   "source": [
    "### Randomize Data\n",
    "As you saw from exploring the data above, the order of the samples are randomized.  It doesn't hurt to randomize it again, but you don't need to for this dataset."
   ]
  },
  {
   "cell_type": "markdown",
   "metadata": {
    "deletable": true,
    "editable": true
   },
   "source": [
    "## Preprocess all the data and save it\n",
    "Running the code cell below will preprocess all the CIFAR-10 data and save it to file. The code below also uses 10% of the training data for validation."
   ]
  },
  {
   "cell_type": "code",
   "execution_count": 5,
   "metadata": {
    "collapsed": false,
    "deletable": true,
    "editable": true
   },
   "outputs": [],
   "source": [
    "\"\"\"\n",
    "DON'T MODIFY ANYTHING IN THIS CELL\n",
    "\"\"\"\n",
    "# Preprocess Training, Validation, and Testing Data\n",
    "helper.preprocess_and_save_data(cifar10_dataset_folder_path, normalize, one_hot_encode)"
   ]
  },
  {
   "cell_type": "markdown",
   "metadata": {
    "deletable": true,
    "editable": true
   },
   "source": [
    "# Check Point\n",
    "This is your first checkpoint.  If you ever decide to come back to this notebook or have to restart the notebook, you can start from here.  The preprocessed data has been saved to disk."
   ]
  },
  {
   "cell_type": "code",
   "execution_count": 6,
   "metadata": {
    "collapsed": true,
    "deletable": true,
    "editable": true
   },
   "outputs": [],
   "source": [
    "\"\"\"\n",
    "DON'T MODIFY ANYTHING IN THIS CELL\n",
    "\"\"\"\n",
    "import pickle\n",
    "import problem_unittests as tests\n",
    "import helper\n",
    "\n",
    "# Load the Preprocessed Validation data\n",
    "valid_features, valid_labels = pickle.load(open('preprocess_validation.p', mode='rb'))"
   ]
  },
  {
   "cell_type": "markdown",
   "metadata": {},
   "source": [
    "My Stuff\n",
    "--------\n",
    "\n",
    "1. To build shapes I copied the unroll function which recursively flattens lists.\n",
    "\n",
    "2. ReLU that doesn't die."
   ]
  },
  {
   "cell_type": "code",
   "execution_count": 7,
   "metadata": {
    "collapsed": false,
    "deletable": true,
    "editable": true
   },
   "outputs": [
    {
     "data": {
      "text/plain": [
       "[1, 2, 3, 4, 5]"
      ]
     },
     "execution_count": 7,
     "metadata": {},
     "output_type": "execute_result"
    }
   ],
   "source": [
    "import collections\n",
    "\n",
    "def unroll(*args):\n",
    "    \"\"\"Unroll a possibly nested list for easy dimensions.\n",
    "        https://stackoverflow.com/questions/2158395/flatten-an-irregular-list-of-lists-in-python\n",
    "    \"\"\"\n",
    "    def impl(l):\n",
    "        for el in l:\n",
    "            if isinstance(el, collections.Iterable) and not isinstance(el, (str, bytes)):\n",
    "                yield from impl(el)\n",
    "            else:\n",
    "                yield el\n",
    "                \n",
    "    return list(impl(args))\n",
    "\n",
    "unroll(1, [2, 3], [[4, 5]])"
   ]
  },
  {
   "cell_type": "code",
   "execution_count": 8,
   "metadata": {
    "collapsed": true
   },
   "outputs": [],
   "source": [
    "def soft_relu(x):\n",
    "    return x*0.27 + tf.maximum(x, 0.0)*0.73"
   ]
  },
  {
   "cell_type": "markdown",
   "metadata": {
    "deletable": true,
    "editable": true
   },
   "source": [
    "## Build the network\n",
    "For the neural network, you'll build each layer into a function.  Most of the code you've seen has been outside of functions. To test your code more thoroughly, we require that you put each layer in a function.  This allows us to give you better feedback and test for simple mistakes using our unittests before you submit your project.\n",
    "\n",
    ">**Note:** If you're finding it hard to dedicate enough time for this course each week, we've provided a small shortcut to this part of the project. In the next couple of problems, you'll have the option to use classes from the [TensorFlow Layers](https://www.tensorflow.org/api_docs/python/tf/layers) or [TensorFlow Layers (contrib)](https://www.tensorflow.org/api_guides/python/contrib.layers) packages to build each layer, except the layers you build in the \"Convolutional and Max Pooling Layer\" section.  TF Layers is similar to Keras's and TFLearn's abstraction to layers, so it's easy to pickup.\n",
    "\n",
    ">However, if you would like to get the most out of this course, try to solve all the problems _without_ using anything from the TF Layers packages. You **can** still use classes from other packages that happen to have the same name as ones you find in TF Layers! For example, instead of using the TF Layers version of the `conv2d` class, [tf.layers.conv2d](https://www.tensorflow.org/api_docs/python/tf/layers/conv2d), you would want to use the TF Neural Network version of `conv2d`, [tf.nn.conv2d](https://www.tensorflow.org/api_docs/python/tf/nn/conv2d). \n",
    "\n",
    "Let's begin!\n",
    "\n",
    "### Input\n",
    "The neural network needs to read the image data, one-hot encoded labels, and dropout keep probability. Implement the following functions\n",
    "* Implement `neural_net_image_input`\n",
    " * Return a [TF Placeholder](https://www.tensorflow.org/api_docs/python/tf/placeholder)\n",
    " * Set the shape using `image_shape` with batch size set to `None`.\n",
    " * Name the TensorFlow placeholder \"x\" using the TensorFlow `name` parameter in the [TF Placeholder](https://www.tensorflow.org/api_docs/python/tf/placeholder).\n",
    "* Implement `neural_net_label_input`\n",
    " * Return a [TF Placeholder](https://www.tensorflow.org/api_docs/python/tf/placeholder)\n",
    " * Set the shape using `n_classes` with batch size set to `None`.\n",
    " * Name the TensorFlow placeholder \"y\" using the TensorFlow `name` parameter in the [TF Placeholder](https://www.tensorflow.org/api_docs/python/tf/placeholder).\n",
    "* Implement `neural_net_keep_prob_input`\n",
    " * Return a [TF Placeholder](https://www.tensorflow.org/api_docs/python/tf/placeholder) for dropout keep probability.\n",
    " * Name the TensorFlow placeholder \"keep_prob\" using the TensorFlow `name` parameter in the [TF Placeholder](https://www.tensorflow.org/api_docs/python/tf/placeholder).\n",
    "\n",
    "These names will be used at the end of the project to load your saved model.\n",
    "\n",
    "Note: `None` for shapes in TensorFlow allow for a dynamic size."
   ]
  },
  {
   "cell_type": "code",
   "execution_count": 9,
   "metadata": {
    "collapsed": false,
    "deletable": true,
    "editable": true
   },
   "outputs": [
    {
     "name": "stdout",
     "output_type": "stream",
     "text": [
      "Image Input Tests Passed.\n",
      "Label Input Tests Passed.\n",
      "Keep Prob Tests Passed.\n"
     ]
    }
   ],
   "source": [
    "import tensorflow as tf\n",
    "\n",
    "def neural_net_image_input(image_shape):\n",
    "    \"\"\"\n",
    "    Return a Tensor for a batch of image input\n",
    "    : image_shape: Shape of the images\n",
    "    : return: Tensor for image input.\n",
    "    \"\"\"\n",
    "    return tf.placeholder(tf.float32, shape=(None,)+image_shape, name=\"x\")\n",
    "\n",
    "\n",
    "def neural_net_label_input(n_classes):\n",
    "    \"\"\"\n",
    "    Return a Tensor for a batch of label input\n",
    "    : n_classes: Number of classes\n",
    "    : return: Tensor for label input.\n",
    "    \"\"\"\n",
    "    return tf.placeholder(tf.float32, shape=(None, n_classes), name=\"y\")\n",
    "\n",
    "\n",
    "def neural_net_keep_prob_input():\n",
    "    \"\"\"\n",
    "    Return a Tensor for keep probability\n",
    "    : return: Tensor for keep probability.\n",
    "    \"\"\"\n",
    "    return tf.placeholder(tf.float32, shape=None, name=\"keep_prob\")\n",
    "\n",
    "\n",
    "\"\"\"\n",
    "DON'T MODIFY ANYTHING IN THIS CELL THAT IS BELOW THIS LINE\n",
    "\"\"\"\n",
    "tf.reset_default_graph()\n",
    "tests.test_nn_image_inputs(neural_net_image_input)\n",
    "tests.test_nn_label_inputs(neural_net_label_input)\n",
    "tests.test_nn_keep_prob_inputs(neural_net_keep_prob_input)"
   ]
  },
  {
   "cell_type": "markdown",
   "metadata": {
    "deletable": true,
    "editable": true
   },
   "source": [
    "### Convolution and Max Pooling Layer\n",
    "Convolution layers have a lot of success with images. For this code cell, you should implement the function `conv2d_maxpool` to apply convolution then max pooling:\n",
    "* Create the weight and bias using `conv_ksize`, `conv_num_outputs` and the shape of `x_tensor`.\n",
    "* Apply a convolution to `x_tensor` using weight and `conv_strides`.\n",
    " * We recommend you use same padding, but you're welcome to use any padding.\n",
    "* Add bias\n",
    "* Add a nonlinear activation to the convolution.\n",
    "* Apply Max Pooling using `pool_ksize` and `pool_strides`.\n",
    " * We recommend you use same padding, but you're welcome to use any padding.\n",
    "\n",
    "**Note:** You **can't** use [TensorFlow Layers](https://www.tensorflow.org/api_docs/python/tf/layers) or [TensorFlow Layers (contrib)](https://www.tensorflow.org/api_guides/python/contrib.layers) for **this** layer, but you can still use TensorFlow's [Neural Network](https://www.tensorflow.org/api_docs/python/tf/nn) package. You may still use the shortcut option for all the **other** layers."
   ]
  },
  {
   "cell_type": "code",
   "execution_count": 10,
   "metadata": {
    "collapsed": false,
    "deletable": true,
    "editable": true
   },
   "outputs": [
    {
     "name": "stdout",
     "output_type": "stream",
     "text": [
      "in_shape [None, 32, 32, 5]\n",
      "conv_shape [None, 8, 8, 10]\n",
      "out_shape [None, 4, 4, 10]\n",
      "Tests Passed\n"
     ]
    }
   ],
   "source": [
    "def conv2d_maxpool(x_tensor, conv_num_outputs, conv_ksize, conv_strides, pool_ksize, pool_strides):\n",
    "    \"\"\"\n",
    "    Apply convolution then max pooling to x_tensor\n",
    "    :param x_tensor: TensorFlow Tensor\n",
    "    :param conv_num_outputs: Number of outputs for the convolutional layer\n",
    "    :param conv_ksize: kernal size 2-D Tuple for the convolutional layer\n",
    "    :param conv_strides: Stride 2-D Tuple for convolution\n",
    "    :param pool_ksize: kernal size 2-D Tuple for pool\n",
    "    :param pool_strides: Stride 2-D Tuple for pool\n",
    "    : return: A tensor that represents convolution and max pooling of x_tensor\n",
    "    \"\"\"\n",
    "    in_shape = x_tensor.shape.as_list()\n",
    "    print(\"in_shape\", in_shape)\n",
    "    \n",
    "    channels = in_shape[3]\n",
    "    \n",
    "    in_w, in_h = in_shape[1:3]\n",
    "    s_w, s_h = conv_strides\n",
    "    out_w, out_h = in_w/s_w, in_h/s_h\n",
    "    rel_size = (channels*in_w*in_h) / (conv_num_outputs*out_w*out_h)\n",
    "    \n",
    "    weight = tf.Variable(tf.truncated_normal(unroll(conv_ksize, channels, conv_num_outputs)) / rel_size)\n",
    "    bias = tf.Variable(tf.zeros([conv_num_outputs]))\n",
    "    \n",
    "    conv_layer = tf.nn.conv2d(x_tensor, weight, strides=unroll(1, conv_strides, 1), padding=\"SAME\")\n",
    "    conv_layer = tf.nn.bias_add(conv_layer, bias)\n",
    "    \n",
    "    print(\"conv_shape\", conv_layer.shape.as_list())\n",
    "    \n",
    "    conv_layer = soft_relu(conv_layer)\n",
    "\n",
    "    conv_layer = tf.nn.max_pool(conv_layer, unroll(1, pool_ksize, 1), unroll(1, pool_strides, 1), padding=\"SAME\")\n",
    "    \n",
    "    print(\"out_shape\", conv_layer.shape.as_list())\n",
    "    return conv_layer\n",
    "\n",
    "\"\"\"\n",
    "DON'T MODIFY ANYTHING IN THIS CELL THAT IS BELOW THIS LINE\n",
    "\"\"\"\n",
    "tests.test_con_pool(conv2d_maxpool)"
   ]
  },
  {
   "cell_type": "markdown",
   "metadata": {
    "deletable": true,
    "editable": true
   },
   "source": [
    "### Flatten Layer\n",
    "Implement the `flatten` function to change the dimension of `x_tensor` from a 4-D tensor to a 2-D tensor.  The output should be the shape (*Batch Size*, *Flattened Image Size*). Shortcut option: you can use classes from the [TensorFlow Layers](https://www.tensorflow.org/api_docs/python/tf/layers) or [TensorFlow Layers (contrib)](https://www.tensorflow.org/api_guides/python/contrib.layers) packages for this layer. For more of a challenge, only use other TensorFlow packages."
   ]
  },
  {
   "cell_type": "code",
   "execution_count": 11,
   "metadata": {
    "collapsed": false,
    "deletable": true,
    "editable": true
   },
   "outputs": [
    {
     "name": "stdout",
     "output_type": "stream",
     "text": [
      "Tests Passed\n"
     ]
    }
   ],
   "source": [
    "import numpy as np\n",
    "\n",
    "def flatten(x_tensor):\n",
    "    \"\"\"\n",
    "    Flatten x_tensor to (Batch Size, Flattened Image Size)\n",
    "    : x_tensor: A tensor of size (Batch Size, ...), where ... are the image dimensions.\n",
    "    : return: A tensor of size (Batch Size, Flattened Image Size).\n",
    "    \"\"\"\n",
    "    inputsize = np.prod(x_tensor.shape[1:].as_list())\n",
    "    return tf.reshape(x_tensor, [-1, inputsize])\n",
    "\n",
    "\n",
    "\"\"\"\n",
    "DON'T MODIFY ANYTHING IN THIS CELL THAT IS BELOW THIS LINE\n",
    "\"\"\"\n",
    "tests.test_flatten(flatten)"
   ]
  },
  {
   "cell_type": "markdown",
   "metadata": {
    "deletable": true,
    "editable": true
   },
   "source": [
    "### Fully-Connected Layer\n",
    "Implement the `fully_conn` function to apply a fully connected layer to `x_tensor` with the shape (*Batch Size*, *num_outputs*). Shortcut option: you can use classes from the [TensorFlow Layers](https://www.tensorflow.org/api_docs/python/tf/layers) or [TensorFlow Layers (contrib)](https://www.tensorflow.org/api_guides/python/contrib.layers) packages for this layer. For more of a challenge, only use other TensorFlow packages."
   ]
  },
  {
   "cell_type": "code",
   "execution_count": 12,
   "metadata": {
    "collapsed": false,
    "deletable": true,
    "editable": true
   },
   "outputs": [
    {
     "name": "stdout",
     "output_type": "stream",
     "text": [
      "full_in [None, 128]\n",
      "full_out [None, 40]\n",
      "Tests Passed\n"
     ]
    }
   ],
   "source": [
    "def fully_conn(x_tensor, num_outputs):\n",
    "    \"\"\"\n",
    "    Apply a fully connected layer to x_tensor using weight and bias\n",
    "    : x_tensor: A 2-D tensor where the first dimension is batch size.\n",
    "    : num_outputs: The number of output that the new tensor should be.\n",
    "    : return: A 2-D tensor where the second dimension is num_outputs.\n",
    "    \"\"\"\n",
    "    in_shape = x_tensor.shape.as_list()\n",
    "    print(\"full_in\", in_shape)\n",
    "    rel_size = in_shape[1] / num_outputs\n",
    "    \n",
    "    \n",
    "    weights = tf.Variable(tf.truncated_normal(unroll(x_tensor.shape[1:].as_list(), num_outputs)) / rel_size)\n",
    "    bias = tf.Variable(tf.zeros([num_outputs]))\n",
    "    \n",
    "    conn_layer = tf.add(tf.matmul(x_tensor, weights), bias)\n",
    "    conn_layer = soft_relu(conn_layer)\n",
    "    \n",
    "    print(\"full_out\", conn_layer.shape.as_list())\n",
    "    return conn_layer\n",
    "\n",
    "\n",
    "\"\"\"\n",
    "DON'T MODIFY ANYTHING IN THIS CELL THAT IS BELOW THIS LINE\n",
    "\"\"\"\n",
    "tests.test_fully_conn(fully_conn)"
   ]
  },
  {
   "cell_type": "markdown",
   "metadata": {
    "deletable": true,
    "editable": true
   },
   "source": [
    "### Output Layer\n",
    "Implement the `output` function to apply a fully connected layer to `x_tensor` with the shape (*Batch Size*, *num_outputs*). Shortcut option: you can use classes from the [TensorFlow Layers](https://www.tensorflow.org/api_docs/python/tf/layers) or [TensorFlow Layers (contrib)](https://www.tensorflow.org/api_guides/python/contrib.layers) packages for this layer. For more of a challenge, only use other TensorFlow packages.\n",
    "\n",
    "**Note:** Activation, softmax, or cross entropy should **not** be applied to this."
   ]
  },
  {
   "cell_type": "code",
   "execution_count": 13,
   "metadata": {
    "collapsed": false,
    "deletable": true,
    "editable": true
   },
   "outputs": [
    {
     "name": "stdout",
     "output_type": "stream",
     "text": [
      "Tests Passed\n"
     ]
    }
   ],
   "source": [
    "def output(x_tensor, num_outputs):\n",
    "    \"\"\"\n",
    "    Apply a output layer to x_tensor using weight and bias\n",
    "    : x_tensor: A 2-D tensor where the first dimension is batch size.\n",
    "    : num_outputs: The number of output that the new tensor should be.\n",
    "    : return: A 2-D tensor where the second dimension is num_outputs.\n",
    "    \"\"\"\n",
    "    weights = tf.Variable(tf.truncated_normal(unroll(x_tensor.shape[1:].as_list(), num_outputs)))\n",
    "    bias = tf.Variable(tf.zeros([num_outputs]))\n",
    "    \n",
    "    conn_layer = tf.add(tf.matmul(x_tensor, weights), bias)\n",
    "    \n",
    "    \n",
    "    return conn_layer\n",
    "\n",
    "\n",
    "\"\"\"\n",
    "DON'T MODIFY ANYTHING IN THIS CELL THAT IS BELOW THIS LINE\n",
    "\"\"\"\n",
    "tests.test_output(output)"
   ]
  },
  {
   "cell_type": "markdown",
   "metadata": {
    "deletable": true,
    "editable": true
   },
   "source": [
    "### Create Convolutional Model\n",
    "Implement the function `conv_net` to create a convolutional neural network model. The function takes in a batch of images, `x`, and outputs logits.  Use the layers you created above to create this model:\n",
    "\n",
    "* Apply 1, 2, or 3 Convolution and Max Pool layers\n",
    "* Apply a Flatten Layer\n",
    "* Apply 1, 2, or 3 Fully Connected Layers\n",
    "* Apply an Output Layer\n",
    "* Return the output\n",
    "* Apply [TensorFlow's Dropout](https://www.tensorflow.org/api_docs/python/tf/nn/dropout) to one or more layers in the model using `keep_prob`. "
   ]
  },
  {
   "cell_type": "code",
   "execution_count": 14,
   "metadata": {
    "collapsed": false,
    "deletable": true,
    "editable": true
   },
   "outputs": [
    {
     "name": "stdout",
     "output_type": "stream",
     "text": [
      "in_shape [None, 32, 32, 3]\n",
      "conv_shape [None, 16, 16, 8]\n",
      "out_shape [None, 8, 8, 8]\n",
      "in_shape [None, 8, 8, 8]\n",
      "conv_shape [None, 8, 8, 16]\n",
      "out_shape [None, 4, 4, 16]\n",
      "full_in [None, 256]\n",
      "full_out [None, 64]\n",
      "full_in [None, 64]\n",
      "full_out [None, 32]\n",
      "Build network; now testing...\n",
      "in_shape [None, 32, 32, 3]\n",
      "conv_shape [None, 16, 16, 8]\n",
      "out_shape [None, 8, 8, 8]\n",
      "in_shape [None, 8, 8, 8]\n",
      "conv_shape [None, 8, 8, 16]\n",
      "out_shape [None, 4, 4, 16]\n",
      "full_in [None, 256]\n",
      "full_out [None, 64]\n",
      "full_in [None, 64]\n",
      "full_out [None, 32]\n",
      "Neural Network Built!\n"
     ]
    }
   ],
   "source": [
    "def conv_net(x, keep_prob):\n",
    "    \"\"\"\n",
    "    Create a convolutional neural network model\n",
    "    : x: Placeholder tensor that holds image data.\n",
    "    : keep_prob: Placeholder tensor that hold dropout keep probability.\n",
    "    : return: Tensor that represents logits\n",
    "    \"\"\"\n",
    "    # TODO: Apply 1, 2, or 3 Convolution and Max Pool layers\n",
    "    #    Play around with different number of outputs, kernel size and stride\n",
    "    # Function Definition from Above:\n",
    "    #    conv2d_maxpool(x_tensor, conv_num_outputs, conv_ksize, conv_strides, pool_ksize, pool_strides)\n",
    "    \n",
    "    x = conv2d_maxpool(x, 8, [8, 8], [2, 2], [2, 2], [2, 2])\n",
    "    \n",
    "    x = conv2d_maxpool(x, 16, [4, 4], [1, 1], [2, 2], [2, 2])\n",
    "\n",
    "    # x = conv2d_maxpool(x, 32, [4, 4], [1, 1], [2, 2], [2, 2])\n",
    "    \n",
    "\n",
    "    # TODO: Apply a Flatten Layer\n",
    "    # Function Definition from Above:\n",
    "    #   flatten(x_tensor)\n",
    "    x = flatten(x)\n",
    "\n",
    "    # TODO: Apply 1, 2, or 3 Fully Connected Layers\n",
    "    #    Play around with different number of outputs\n",
    "    # Function Definition from Above:\n",
    "    #   fully_conn(x_tensor, num_outputs)\n",
    "    \n",
    "    x = fully_conn(x, 64)\n",
    "    \n",
    "    x = fully_conn(x, 32)\n",
    "    \n",
    "    x = tf.nn.dropout(x, keep_prob)\n",
    "    \n",
    "    # TODO: Apply an Output Layer\n",
    "    #    Set this to the number of classes\n",
    "    # Function Definition from Above:\n",
    "    #   output(x_tensor, num_outputs)\n",
    "    x = output(x, 10)\n",
    "    \n",
    "    # TODO: return output\n",
    "    return x\n",
    "\n",
    "\n",
    "\"\"\"\n",
    "DON'T MODIFY ANYTHING IN THIS CELL THAT IS BELOW THIS LINE\n",
    "\n",
    "* added a print for debugging\n",
    "\"\"\"\n",
    "\n",
    "##############################\n",
    "## Build the Neural Network ##\n",
    "##############################\n",
    "\n",
    "# Remove previous weights, bias, inputs, etc..\n",
    "tf.reset_default_graph()\n",
    "\n",
    "# Inputs\n",
    "x = neural_net_image_input((32, 32, 3))\n",
    "y = neural_net_label_input(10)\n",
    "keep_prob = neural_net_keep_prob_input()\n",
    "\n",
    "# Model\n",
    "logits = conv_net(x, keep_prob)\n",
    "\n",
    "# Name logits Tensor, so that is can be loaded from disk after training\n",
    "logits = tf.identity(logits, name='logits')\n",
    "\n",
    "# Loss and Optimizer\n",
    "cost = tf.reduce_mean(tf.nn.softmax_cross_entropy_with_logits(logits=logits, labels=y))\n",
    "optimizer = tf.train.AdamOptimizer().minimize(cost)\n",
    "\n",
    "# Accuracy\n",
    "correct_pred = tf.equal(tf.argmax(logits, 1), tf.argmax(y, 1))\n",
    "accuracy = tf.reduce_mean(tf.cast(correct_pred, tf.float32), name='accuracy')\n",
    "\n",
    "print(\"Build network; now testing...\")\n",
    "\n",
    "tests.test_conv_net(conv_net)"
   ]
  },
  {
   "cell_type": "markdown",
   "metadata": {
    "deletable": true,
    "editable": true
   },
   "source": [
    "## Train the Neural Network\n",
    "### Single Optimization\n",
    "Implement the function `train_neural_network` to do a single optimization.  The optimization should use `optimizer` to optimize in `session` with a `feed_dict` of the following:\n",
    "* `x` for image input\n",
    "* `y` for labels\n",
    "* `keep_prob` for keep probability for dropout\n",
    "\n",
    "This function will be called for each batch, so `tf.global_variables_initializer()` has already been called.\n",
    "\n",
    "Note: Nothing needs to be returned. This function is only optimizing the neural network."
   ]
  },
  {
   "cell_type": "code",
   "execution_count": 15,
   "metadata": {
    "collapsed": false,
    "deletable": true,
    "editable": true
   },
   "outputs": [
    {
     "name": "stdout",
     "output_type": "stream",
     "text": [
      "Tests Passed\n"
     ]
    }
   ],
   "source": [
    "def train_neural_network(session, optimizer, keep_probability, feature_batch, label_batch):\n",
    "    \"\"\"\n",
    "    Optimize the session on a batch of images and labels\n",
    "    : session: Current TensorFlow session\n",
    "    : optimizer: TensorFlow optimizer function\n",
    "    : keep_probability: keep probability\n",
    "    : feature_batch: Batch of Numpy image data\n",
    "    : label_batch: Batch of Numpy label data\n",
    "    \"\"\"\n",
    "    \n",
    "    session.run(optimizer, feed_dict={x: feature_batch, y: label_batch, keep_prob: keep_probability})\n",
    "\n",
    "\n",
    "\"\"\"\n",
    "DON'T MODIFY ANYTHING IN THIS CELL THAT IS BELOW THIS LINE\n",
    "\"\"\"\n",
    "tests.test_train_nn(train_neural_network)"
   ]
  },
  {
   "cell_type": "markdown",
   "metadata": {
    "deletable": true,
    "editable": true
   },
   "source": [
    "### Show Stats\n",
    "Implement the function `print_stats` to print loss and validation accuracy.  Use the global variables `valid_features` and `valid_labels` to calculate validation accuracy.  Use a keep probability of `1.0` to calculate the loss and validation accuracy."
   ]
  },
  {
   "cell_type": "code",
   "execution_count": 16,
   "metadata": {
    "collapsed": false,
    "deletable": true,
    "editable": true
   },
   "outputs": [],
   "source": [
    "def print_stats(session, feature_batch, label_batch, cost, accuracy):\n",
    "    \"\"\"\n",
    "    Print information about loss and validation accuracy\n",
    "    : session: Current TensorFlow session\n",
    "    : feature_batch: Batch of Numpy image data\n",
    "    : label_batch: Batch of Numpy label data\n",
    "    : cost: TensorFlow cost function\n",
    "    : accuracy: TensorFlow accuracy function\n",
    "    \"\"\"\n",
    "    cost, accuracy = session.run([cost, accuracy], feed_dict={x: feature_batch, y: label_batch, keep_prob: 1.0})\n",
    "    print(\"Cost: {:>10.5f}; Accuracy: {:>6.1%}\".format(cost, accuracy))"
   ]
  },
  {
   "cell_type": "markdown",
   "metadata": {
    "deletable": true,
    "editable": true
   },
   "source": [
    "### Hyperparameters\n",
    "Tune the following parameters:\n",
    "* Set `epochs` to the number of iterations until the network stops learning or start overfitting\n",
    "* Set `batch_size` to the highest number that your machine has memory for.  Most people set them to common sizes of memory:\n",
    " * 64\n",
    " * 128\n",
    " * 256\n",
    " * ...\n",
    "* Set `keep_probability` to the probability of keeping a node using dropout"
   ]
  },
  {
   "cell_type": "code",
   "execution_count": 17,
   "metadata": {
    "collapsed": true,
    "deletable": true,
    "editable": true
   },
   "outputs": [],
   "source": [
    "# TODO: Tune Parameters\n",
    "epochs = 64\n",
    "batch_size = 64\n",
    "keep_probability = 0.9"
   ]
  },
  {
   "cell_type": "markdown",
   "metadata": {
    "deletable": true,
    "editable": true
   },
   "source": [
    "### Train on a Single CIFAR-10 Batch\n",
    "Instead of training the neural network on all the CIFAR-10 batches of data, let's use a single batch. This should save time while you iterate on the model to get a better accuracy.  Once the final validation accuracy is 50% or greater, run the model on all the data in the next section."
   ]
  },
  {
   "cell_type": "code",
   "execution_count": 18,
   "metadata": {
    "collapsed": false,
    "deletable": true,
    "editable": true
   },
   "outputs": [
    {
     "name": "stdout",
     "output_type": "stream",
     "text": [
      "Checking the Training on a Single Batch...\n",
      "Epoch  1, CIFAR-10 Batch 1:  Cost:  109.75513; Accuracy:  20.0%\n",
      "Epoch  2, CIFAR-10 Batch 1:  Cost:   62.79316; Accuracy:  25.0%\n",
      "Epoch  3, CIFAR-10 Batch 1:  Cost:   42.01765; Accuracy:  20.0%\n",
      "Epoch  4, CIFAR-10 Batch 1:  Cost:   32.21539; Accuracy:  22.5%\n",
      "Epoch  5, CIFAR-10 Batch 1:  Cost:   27.00512; Accuracy:  22.5%\n",
      "Epoch  6, CIFAR-10 Batch 1:  Cost:   19.94028; Accuracy:  20.0%\n",
      "Epoch  7, CIFAR-10 Batch 1:  Cost:   18.09335; Accuracy:  22.5%\n",
      "Epoch  8, CIFAR-10 Batch 1:  Cost:   16.88181; Accuracy:  27.5%\n",
      "Epoch  9, CIFAR-10 Batch 1:  Cost:   15.85234; Accuracy:  17.5%\n",
      "Epoch 10, CIFAR-10 Batch 1:  Cost:   13.70639; Accuracy:  22.5%\n",
      "Epoch 11, CIFAR-10 Batch 1:  Cost:   12.62088; Accuracy:  25.0%\n",
      "Epoch 12, CIFAR-10 Batch 1:  Cost:   11.68524; Accuracy:  17.5%\n",
      "Epoch 13, CIFAR-10 Batch 1:  Cost:    9.90073; Accuracy:  17.5%\n",
      "Epoch 14, CIFAR-10 Batch 1:  Cost:    9.05651; Accuracy:  22.5%\n",
      "Epoch 15, CIFAR-10 Batch 1:  Cost:    8.51584; Accuracy:  22.5%\n",
      "Epoch 16, CIFAR-10 Batch 1:  Cost:    7.48252; Accuracy:  27.5%\n",
      "Epoch 17, CIFAR-10 Batch 1:  Cost:    6.81205; Accuracy:  25.0%\n",
      "Epoch 18, CIFAR-10 Batch 1:  Cost:    6.35794; Accuracy:  30.0%\n",
      "Epoch 19, CIFAR-10 Batch 1:  Cost:    5.72398; Accuracy:  30.0%\n",
      "Epoch 20, CIFAR-10 Batch 1:  Cost:    5.38571; Accuracy:  35.0%\n",
      "Epoch 21, CIFAR-10 Batch 1:  Cost:    4.70253; Accuracy:  37.5%\n",
      "Epoch 22, CIFAR-10 Batch 1:  Cost:    4.56673; Accuracy:  37.5%\n",
      "Epoch 23, CIFAR-10 Batch 1:  Cost:    4.38080; Accuracy:  42.5%\n",
      "Epoch 24, CIFAR-10 Batch 1:  Cost:    3.79991; Accuracy:  42.5%\n",
      "Epoch 25, CIFAR-10 Batch 1:  Cost:    4.00878; Accuracy:  42.5%\n",
      "Epoch 26, CIFAR-10 Batch 1:  Cost:    3.80642; Accuracy:  40.0%\n",
      "Epoch 27, CIFAR-10 Batch 1:  Cost:    3.50888; Accuracy:  27.5%\n",
      "Epoch 28, CIFAR-10 Batch 1:  Cost:    3.44001; Accuracy:  35.0%\n",
      "Epoch 29, CIFAR-10 Batch 1:  Cost:    3.52303; Accuracy:  37.5%\n",
      "Epoch 30, CIFAR-10 Batch 1:  Cost:    3.16935; Accuracy:  37.5%\n",
      "Epoch 31, CIFAR-10 Batch 1:  Cost:    3.01776; Accuracy:  37.5%\n",
      "Epoch 32, CIFAR-10 Batch 1:  Cost:    3.13211; Accuracy:  27.5%\n",
      "Epoch 33, CIFAR-10 Batch 1:  Cost:    2.86019; Accuracy:  42.5%\n",
      "Epoch 34, CIFAR-10 Batch 1:  Cost:    2.61838; Accuracy:  40.0%\n",
      "Epoch 35, CIFAR-10 Batch 1:  Cost:    2.46563; Accuracy:  40.0%\n",
      "Epoch 36, CIFAR-10 Batch 1:  Cost:    2.58980; Accuracy:  30.0%\n",
      "Epoch 37, CIFAR-10 Batch 1:  Cost:    2.36491; Accuracy:  40.0%\n",
      "Epoch 38, CIFAR-10 Batch 1:  Cost:    2.10110; Accuracy:  42.5%\n",
      "Epoch 39, CIFAR-10 Batch 1:  Cost:    2.17561; Accuracy:  37.5%\n",
      "Epoch 40, CIFAR-10 Batch 1:  Cost:    2.07300; Accuracy:  42.5%\n",
      "Epoch 41, CIFAR-10 Batch 1:  Cost:    1.98176; Accuracy:  42.5%\n",
      "Epoch 42, CIFAR-10 Batch 1:  Cost:    2.11505; Accuracy:  40.0%\n",
      "Epoch 43, CIFAR-10 Batch 1:  Cost:    1.90919; Accuracy:  42.5%\n",
      "Epoch 44, CIFAR-10 Batch 1:  Cost:    1.89983; Accuracy:  37.5%\n",
      "Epoch 45, CIFAR-10 Batch 1:  Cost:    1.84862; Accuracy:  47.5%\n",
      "Epoch 46, CIFAR-10 Batch 1:  Cost:    1.79485; Accuracy:  42.5%\n",
      "Epoch 47, CIFAR-10 Batch 1:  Cost:    1.77689; Accuracy:  47.5%\n",
      "Epoch 48, CIFAR-10 Batch 1:  Cost:    1.78700; Accuracy:  45.0%\n",
      "Epoch 49, CIFAR-10 Batch 1:  Cost:    1.76321; Accuracy:  47.5%\n",
      "Epoch 50, CIFAR-10 Batch 1:  Cost:    1.65658; Accuracy:  40.0%\n",
      "Epoch 51, CIFAR-10 Batch 1:  Cost:    1.70320; Accuracy:  50.0%\n",
      "Epoch 52, CIFAR-10 Batch 1:  Cost:    1.70106; Accuracy:  50.0%\n",
      "Epoch 53, CIFAR-10 Batch 1:  Cost:    1.59452; Accuracy:  50.0%\n",
      "Epoch 54, CIFAR-10 Batch 1:  Cost:    1.64801; Accuracy:  50.0%\n",
      "Epoch 55, CIFAR-10 Batch 1:  Cost:    1.52298; Accuracy:  50.0%\n",
      "Epoch 56, CIFAR-10 Batch 1:  Cost:    1.57334; Accuracy:  55.0%\n",
      "Epoch 57, CIFAR-10 Batch 1:  Cost:    1.57211; Accuracy:  45.0%\n",
      "Epoch 58, CIFAR-10 Batch 1:  Cost:    1.56285; Accuracy:  52.5%\n",
      "Epoch 59, CIFAR-10 Batch 1:  Cost:    1.47066; Accuracy:  55.0%\n",
      "Epoch 60, CIFAR-10 Batch 1:  Cost:    1.49028; Accuracy:  55.0%\n",
      "Epoch 61, CIFAR-10 Batch 1:  Cost:    1.52331; Accuracy:  55.0%\n",
      "Epoch 62, CIFAR-10 Batch 1:  Cost:    1.46410; Accuracy:  57.5%\n",
      "Epoch 63, CIFAR-10 Batch 1:  Cost:    1.47517; Accuracy:  55.0%\n",
      "Epoch 64, CIFAR-10 Batch 1:  Cost:    1.53538; Accuracy:  47.5%\n"
     ]
    }
   ],
   "source": [
    "\"\"\"\n",
    "DON'T MODIFY ANYTHING IN THIS CELL\n",
    "\"\"\"\n",
    "print('Checking the Training on a Single Batch...')\n",
    "with tf.Session() as sess:\n",
    "    # Initializing the variables\n",
    "    sess.run(tf.global_variables_initializer())\n",
    "    \n",
    "    # Training cycle\n",
    "    for epoch in range(epochs):\n",
    "        batch_i = 1\n",
    "        for batch_features, batch_labels in helper.load_preprocess_training_batch(batch_i, batch_size):\n",
    "            train_neural_network(sess, optimizer, keep_probability, batch_features, batch_labels)\n",
    "        print('Epoch {:>2}, CIFAR-10 Batch {}:  '.format(epoch + 1, batch_i), end='')\n",
    "        print_stats(sess, batch_features, batch_labels, cost, accuracy)"
   ]
  },
  {
   "cell_type": "markdown",
   "metadata": {
    "deletable": true,
    "editable": true
   },
   "source": [
    "### Fully Train the Model\n",
    "Now that you got a good accuracy with a single CIFAR-10 batch, try it with all five batches."
   ]
  },
  {
   "cell_type": "code",
   "execution_count": 19,
   "metadata": {
    "collapsed": false,
    "deletable": true,
    "editable": true,
    "scrolled": false
   },
   "outputs": [
    {
     "name": "stdout",
     "output_type": "stream",
     "text": [
      "Training...\n",
      "Epoch  1, CIFAR-10 Batch 1:  Cost:   62.94588; Accuracy:  15.0%\n",
      "Epoch  1, CIFAR-10 Batch 2:  Cost:   33.18508; Accuracy:  20.0%\n",
      "Epoch  1, CIFAR-10 Batch 3:  Cost:   16.52485; Accuracy:  27.5%\n",
      "Epoch  1, CIFAR-10 Batch 4:  Cost:   15.14611; Accuracy:  20.0%\n",
      "Epoch  1, CIFAR-10 Batch 5:  Cost:   11.97711; Accuracy:  17.5%\n",
      "Epoch  2, CIFAR-10 Batch 1:  Cost:   10.21128; Accuracy:  32.5%\n",
      "Epoch  2, CIFAR-10 Batch 2:  Cost:    7.37621; Accuracy:  27.5%\n",
      "Epoch  2, CIFAR-10 Batch 3:  Cost:    6.77231; Accuracy:  25.0%\n",
      "Epoch  2, CIFAR-10 Batch 4:  Cost:    6.52348; Accuracy:  20.0%\n",
      "Epoch  2, CIFAR-10 Batch 5:  Cost:    5.51722; Accuracy:  15.0%\n",
      "Epoch  3, CIFAR-10 Batch 1:  Cost:    5.30209; Accuracy:  27.5%\n",
      "Epoch  3, CIFAR-10 Batch 2:  Cost:    4.45055; Accuracy:  22.5%\n",
      "Epoch  3, CIFAR-10 Batch 3:  Cost:    3.88953; Accuracy:  30.0%\n",
      "Epoch  3, CIFAR-10 Batch 4:  Cost:    3.64049; Accuracy:  22.5%\n",
      "Epoch  3, CIFAR-10 Batch 5:  Cost:    4.09009; Accuracy:  17.5%\n",
      "Epoch  4, CIFAR-10 Batch 1:  Cost:    3.39455; Accuracy:  32.5%\n",
      "Epoch  4, CIFAR-10 Batch 2:  Cost:    3.09743; Accuracy:  22.5%\n",
      "Epoch  4, CIFAR-10 Batch 3:  Cost:    2.86129; Accuracy:  32.5%\n",
      "Epoch  4, CIFAR-10 Batch 4:  Cost:    2.72641; Accuracy:  27.5%\n",
      "Epoch  4, CIFAR-10 Batch 5:  Cost:    3.32930; Accuracy:  17.5%\n",
      "Epoch  5, CIFAR-10 Batch 1:  Cost:    2.87659; Accuracy:  30.0%\n",
      "Epoch  5, CIFAR-10 Batch 2:  Cost:    2.30160; Accuracy:  32.5%\n",
      "Epoch  5, CIFAR-10 Batch 3:  Cost:    2.21198; Accuracy:  40.0%\n",
      "Epoch  5, CIFAR-10 Batch 4:  Cost:    2.13882; Accuracy:  30.0%\n",
      "Epoch  5, CIFAR-10 Batch 5:  Cost:    2.73182; Accuracy:  17.5%\n",
      "Epoch  6, CIFAR-10 Batch 1:  Cost:    2.41204; Accuracy:  30.0%\n",
      "Epoch  6, CIFAR-10 Batch 2:  Cost:    2.06980; Accuracy:  35.0%\n",
      "Epoch  6, CIFAR-10 Batch 3:  Cost:    2.05791; Accuracy:  45.0%\n",
      "Epoch  6, CIFAR-10 Batch 4:  Cost:    1.84674; Accuracy:  30.0%\n",
      "Epoch  6, CIFAR-10 Batch 5:  Cost:    2.44295; Accuracy:  15.0%\n",
      "Epoch  7, CIFAR-10 Batch 1:  Cost:    2.20694; Accuracy:  30.0%\n",
      "Epoch  7, CIFAR-10 Batch 2:  Cost:    1.90737; Accuracy:  32.5%\n",
      "Epoch  7, CIFAR-10 Batch 3:  Cost:    1.90547; Accuracy:  45.0%\n",
      "Epoch  7, CIFAR-10 Batch 4:  Cost:    1.74890; Accuracy:  35.0%\n",
      "Epoch  7, CIFAR-10 Batch 5:  Cost:    2.28689; Accuracy:  25.0%\n",
      "Epoch  8, CIFAR-10 Batch 1:  Cost:    2.10126; Accuracy:  25.0%\n",
      "Epoch  8, CIFAR-10 Batch 2:  Cost:    1.77876; Accuracy:  40.0%\n",
      "Epoch  8, CIFAR-10 Batch 3:  Cost:    1.81783; Accuracy:  45.0%\n",
      "Epoch  8, CIFAR-10 Batch 4:  Cost:    1.69798; Accuracy:  35.0%\n",
      "Epoch  8, CIFAR-10 Batch 5:  Cost:    2.10197; Accuracy:  32.5%\n",
      "Epoch  9, CIFAR-10 Batch 1:  Cost:    1.96816; Accuracy:  37.5%\n",
      "Epoch  9, CIFAR-10 Batch 2:  Cost:    1.67671; Accuracy:  37.5%\n",
      "Epoch  9, CIFAR-10 Batch 3:  Cost:    1.79473; Accuracy:  42.5%\n",
      "Epoch  9, CIFAR-10 Batch 4:  Cost:    1.62122; Accuracy:  45.0%\n",
      "Epoch  9, CIFAR-10 Batch 5:  Cost:    2.08783; Accuracy:  32.5%\n",
      "Epoch 10, CIFAR-10 Batch 1:  Cost:    1.93661; Accuracy:  32.5%\n",
      "Epoch 10, CIFAR-10 Batch 2:  Cost:    1.65540; Accuracy:  35.0%\n",
      "Epoch 10, CIFAR-10 Batch 3:  Cost:    1.63612; Accuracy:  47.5%\n",
      "Epoch 10, CIFAR-10 Batch 4:  Cost:    1.53411; Accuracy:  45.0%\n",
      "Epoch 10, CIFAR-10 Batch 5:  Cost:    1.96770; Accuracy:  32.5%\n",
      "Epoch 11, CIFAR-10 Batch 1:  Cost:    1.83400; Accuracy:  45.0%\n",
      "Epoch 11, CIFAR-10 Batch 2:  Cost:    1.54356; Accuracy:  42.5%\n",
      "Epoch 11, CIFAR-10 Batch 3:  Cost:    1.56143; Accuracy:  52.5%\n",
      "Epoch 11, CIFAR-10 Batch 4:  Cost:    1.46851; Accuracy:  45.0%\n",
      "Epoch 11, CIFAR-10 Batch 5:  Cost:    1.84509; Accuracy:  25.0%\n",
      "Epoch 12, CIFAR-10 Batch 1:  Cost:    1.81858; Accuracy:  47.5%\n",
      "Epoch 12, CIFAR-10 Batch 2:  Cost:    1.51789; Accuracy:  45.0%\n",
      "Epoch 12, CIFAR-10 Batch 3:  Cost:    1.48921; Accuracy:  55.0%\n",
      "Epoch 12, CIFAR-10 Batch 4:  Cost:    1.40149; Accuracy:  50.0%\n",
      "Epoch 12, CIFAR-10 Batch 5:  Cost:    1.79890; Accuracy:  37.5%\n",
      "Epoch 13, CIFAR-10 Batch 1:  Cost:    1.77125; Accuracy:  50.0%\n",
      "Epoch 13, CIFAR-10 Batch 2:  Cost:    1.51026; Accuracy:  52.5%\n",
      "Epoch 13, CIFAR-10 Batch 3:  Cost:    1.42159; Accuracy:  65.0%\n",
      "Epoch 13, CIFAR-10 Batch 4:  Cost:    1.42318; Accuracy:  45.0%\n",
      "Epoch 13, CIFAR-10 Batch 5:  Cost:    1.77698; Accuracy:  45.0%\n",
      "Epoch 14, CIFAR-10 Batch 1:  Cost:    1.72984; Accuracy:  45.0%\n",
      "Epoch 14, CIFAR-10 Batch 2:  Cost:    1.54801; Accuracy:  52.5%\n",
      "Epoch 14, CIFAR-10 Batch 3:  Cost:    1.46096; Accuracy:  47.5%\n",
      "Epoch 14, CIFAR-10 Batch 4:  Cost:    1.40067; Accuracy:  52.5%\n",
      "Epoch 14, CIFAR-10 Batch 5:  Cost:    1.76209; Accuracy:  40.0%\n",
      "Epoch 15, CIFAR-10 Batch 1:  Cost:    1.72520; Accuracy:  45.0%\n",
      "Epoch 15, CIFAR-10 Batch 2:  Cost:    1.46597; Accuracy:  52.5%\n",
      "Epoch 15, CIFAR-10 Batch 3:  Cost:    1.34404; Accuracy:  62.5%\n",
      "Epoch 15, CIFAR-10 Batch 4:  Cost:    1.35179; Accuracy:  60.0%\n",
      "Epoch 15, CIFAR-10 Batch 5:  Cost:    1.78751; Accuracy:  37.5%\n",
      "Epoch 16, CIFAR-10 Batch 1:  Cost:    1.70219; Accuracy:  47.5%\n",
      "Epoch 16, CIFAR-10 Batch 2:  Cost:    1.45603; Accuracy:  42.5%\n",
      "Epoch 16, CIFAR-10 Batch 3:  Cost:    1.28827; Accuracy:  52.5%\n",
      "Epoch 16, CIFAR-10 Batch 4:  Cost:    1.32987; Accuracy:  60.0%\n",
      "Epoch 16, CIFAR-10 Batch 5:  Cost:    1.74684; Accuracy:  42.5%\n",
      "Epoch 17, CIFAR-10 Batch 1:  Cost:    1.70789; Accuracy:  50.0%\n",
      "Epoch 17, CIFAR-10 Batch 2:  Cost:    1.38828; Accuracy:  45.0%\n",
      "Epoch 17, CIFAR-10 Batch 3:  Cost:    1.30536; Accuracy:  52.5%\n",
      "Epoch 17, CIFAR-10 Batch 4:  Cost:    1.31078; Accuracy:  52.5%\n",
      "Epoch 17, CIFAR-10 Batch 5:  Cost:    1.71952; Accuracy:  45.0%\n",
      "Epoch 18, CIFAR-10 Batch 1:  Cost:    1.69736; Accuracy:  45.0%\n",
      "Epoch 18, CIFAR-10 Batch 2:  Cost:    1.38887; Accuracy:  47.5%\n",
      "Epoch 18, CIFAR-10 Batch 3:  Cost:    1.31647; Accuracy:  60.0%\n",
      "Epoch 18, CIFAR-10 Batch 4:  Cost:    1.30941; Accuracy:  57.5%\n",
      "Epoch 18, CIFAR-10 Batch 5:  Cost:    1.77892; Accuracy:  40.0%\n",
      "Epoch 19, CIFAR-10 Batch 1:  Cost:    1.64107; Accuracy:  50.0%\n",
      "Epoch 19, CIFAR-10 Batch 2:  Cost:    1.32136; Accuracy:  52.5%\n",
      "Epoch 19, CIFAR-10 Batch 3:  Cost:    1.29652; Accuracy:  57.5%\n",
      "Epoch 19, CIFAR-10 Batch 4:  Cost:    1.27467; Accuracy:  60.0%\n",
      "Epoch 19, CIFAR-10 Batch 5:  Cost:    1.66987; Accuracy:  52.5%\n",
      "Epoch 20, CIFAR-10 Batch 1:  Cost:    1.61366; Accuracy:  47.5%\n",
      "Epoch 20, CIFAR-10 Batch 2:  Cost:    1.31559; Accuracy:  47.5%\n",
      "Epoch 20, CIFAR-10 Batch 3:  Cost:    1.25709; Accuracy:  50.0%\n",
      "Epoch 20, CIFAR-10 Batch 4:  Cost:    1.25254; Accuracy:  62.5%\n",
      "Epoch 20, CIFAR-10 Batch 5:  Cost:    1.67765; Accuracy:  52.5%\n",
      "Epoch 21, CIFAR-10 Batch 1:  Cost:    1.62773; Accuracy:  47.5%\n",
      "Epoch 21, CIFAR-10 Batch 2:  Cost:    1.28580; Accuracy:  55.0%\n",
      "Epoch 21, CIFAR-10 Batch 3:  Cost:    1.25001; Accuracy:  62.5%\n",
      "Epoch 21, CIFAR-10 Batch 4:  Cost:    1.24776; Accuracy:  67.5%\n",
      "Epoch 21, CIFAR-10 Batch 5:  Cost:    1.62143; Accuracy:  50.0%\n",
      "Epoch 22, CIFAR-10 Batch 1:  Cost:    1.62393; Accuracy:  40.0%\n",
      "Epoch 22, CIFAR-10 Batch 2:  Cost:    1.28684; Accuracy:  52.5%\n",
      "Epoch 22, CIFAR-10 Batch 3:  Cost:    1.19775; Accuracy:  67.5%\n",
      "Epoch 22, CIFAR-10 Batch 4:  Cost:    1.26433; Accuracy:  60.0%\n",
      "Epoch 22, CIFAR-10 Batch 5:  Cost:    1.65058; Accuracy:  52.5%\n",
      "Epoch 23, CIFAR-10 Batch 1:  Cost:    1.58829; Accuracy:  45.0%\n",
      "Epoch 23, CIFAR-10 Batch 2:  Cost:    1.27764; Accuracy:  52.5%\n",
      "Epoch 23, CIFAR-10 Batch 3:  Cost:    1.20989; Accuracy:  67.5%\n",
      "Epoch 23, CIFAR-10 Batch 4:  Cost:    1.22280; Accuracy:  57.5%\n",
      "Epoch 23, CIFAR-10 Batch 5:  Cost:    1.58961; Accuracy:  52.5%\n",
      "Epoch 24, CIFAR-10 Batch 1:  Cost:    1.53880; Accuracy:  47.5%\n",
      "Epoch 24, CIFAR-10 Batch 2:  Cost:    1.26390; Accuracy:  52.5%\n",
      "Epoch 24, CIFAR-10 Batch 3:  Cost:    1.17796; Accuracy:  75.0%\n",
      "Epoch 24, CIFAR-10 Batch 4:  Cost:    1.21968; Accuracy:  57.5%\n",
      "Epoch 24, CIFAR-10 Batch 5:  Cost:    1.62519; Accuracy:  47.5%\n",
      "Epoch 25, CIFAR-10 Batch 1:  Cost:    1.53320; Accuracy:  50.0%\n",
      "Epoch 25, CIFAR-10 Batch 2:  Cost:    1.26389; Accuracy:  57.5%\n",
      "Epoch 25, CIFAR-10 Batch 3:  Cost:    1.16732; Accuracy:  70.0%\n",
      "Epoch 25, CIFAR-10 Batch 4:  Cost:    1.21709; Accuracy:  67.5%\n",
      "Epoch 25, CIFAR-10 Batch 5:  Cost:    1.51950; Accuracy:  47.5%\n",
      "Epoch 26, CIFAR-10 Batch 1:  Cost:    1.55217; Accuracy:  50.0%\n",
      "Epoch 26, CIFAR-10 Batch 2:  Cost:    1.22564; Accuracy:  55.0%\n",
      "Epoch 26, CIFAR-10 Batch 3:  Cost:    1.17851; Accuracy:  67.5%\n",
      "Epoch 26, CIFAR-10 Batch 4:  Cost:    1.22993; Accuracy:  65.0%\n",
      "Epoch 26, CIFAR-10 Batch 5:  Cost:    1.57836; Accuracy:  50.0%\n",
      "Epoch 27, CIFAR-10 Batch 1:  Cost:    1.53835; Accuracy:  50.0%\n",
      "Epoch 27, CIFAR-10 Batch 2:  Cost:    1.19067; Accuracy:  55.0%\n",
      "Epoch 27, CIFAR-10 Batch 3:  Cost:    1.16823; Accuracy:  72.5%\n",
      "Epoch 27, CIFAR-10 Batch 4:  Cost:    1.20785; Accuracy:  60.0%\n",
      "Epoch 27, CIFAR-10 Batch 5:  Cost:    1.55342; Accuracy:  45.0%\n",
      "Epoch 28, CIFAR-10 Batch 1:  Cost:    1.52292; Accuracy:  47.5%\n",
      "Epoch 28, CIFAR-10 Batch 2:  Cost:    1.22391; Accuracy:  57.5%\n",
      "Epoch 28, CIFAR-10 Batch 3:  Cost:    1.13991; Accuracy:  67.5%\n",
      "Epoch 28, CIFAR-10 Batch 4:  Cost:    1.19994; Accuracy:  62.5%\n",
      "Epoch 28, CIFAR-10 Batch 5:  Cost:    1.51422; Accuracy:  45.0%\n",
      "Epoch 29, CIFAR-10 Batch 1:  Cost:    1.47819; Accuracy:  52.5%\n",
      "Epoch 29, CIFAR-10 Batch 2:  Cost:    1.18585; Accuracy:  50.0%\n",
      "Epoch 29, CIFAR-10 Batch 3:  Cost:    1.15381; Accuracy:  72.5%\n",
      "Epoch 29, CIFAR-10 Batch 4:  Cost:    1.18798; Accuracy:  62.5%\n",
      "Epoch 29, CIFAR-10 Batch 5:  Cost:    1.46376; Accuracy:  47.5%\n",
      "Epoch 30, CIFAR-10 Batch 1:  Cost:    1.46629; Accuracy:  50.0%\n",
      "Epoch 30, CIFAR-10 Batch 2:  Cost:    1.18314; Accuracy:  52.5%\n",
      "Epoch 30, CIFAR-10 Batch 3:  Cost:    1.12462; Accuracy:  70.0%\n",
      "Epoch 30, CIFAR-10 Batch 4:  Cost:    1.18167; Accuracy:  60.0%\n",
      "Epoch 30, CIFAR-10 Batch 5:  Cost:    1.44653; Accuracy:  47.5%\n",
      "Epoch 31, CIFAR-10 Batch 1:  Cost:    1.49188; Accuracy:  50.0%\n",
      "Epoch 31, CIFAR-10 Batch 2:  Cost:    1.18455; Accuracy:  50.0%\n",
      "Epoch 31, CIFAR-10 Batch 3:  Cost:    1.14224; Accuracy:  70.0%\n",
      "Epoch 31, CIFAR-10 Batch 4:  Cost:    1.16037; Accuracy:  65.0%\n",
      "Epoch 31, CIFAR-10 Batch 5:  Cost:    1.42951; Accuracy:  47.5%\n",
      "Epoch 32, CIFAR-10 Batch 1:  Cost:    1.40579; Accuracy:  55.0%\n",
      "Epoch 32, CIFAR-10 Batch 2:  Cost:    1.17779; Accuracy:  52.5%\n",
      "Epoch 32, CIFAR-10 Batch 3:  Cost:    1.12396; Accuracy:  65.0%\n",
      "Epoch 32, CIFAR-10 Batch 4:  Cost:    1.13074; Accuracy:  60.0%\n",
      "Epoch 32, CIFAR-10 Batch 5:  Cost:    1.45509; Accuracy:  42.5%\n",
      "Epoch 33, CIFAR-10 Batch 1:  Cost:    1.40496; Accuracy:  47.5%\n",
      "Epoch 33, CIFAR-10 Batch 2:  Cost:    1.12772; Accuracy:  60.0%\n",
      "Epoch 33, CIFAR-10 Batch 3:  Cost:    1.10153; Accuracy:  67.5%\n",
      "Epoch 33, CIFAR-10 Batch 4:  Cost:    1.12299; Accuracy:  57.5%\n",
      "Epoch 33, CIFAR-10 Batch 5:  Cost:    1.38944; Accuracy:  50.0%\n",
      "Epoch 34, CIFAR-10 Batch 1:  Cost:    1.34932; Accuracy:  52.5%\n",
      "Epoch 34, CIFAR-10 Batch 2:  Cost:    1.14426; Accuracy:  60.0%\n",
      "Epoch 34, CIFAR-10 Batch 3:  Cost:    1.10570; Accuracy:  67.5%\n",
      "Epoch 34, CIFAR-10 Batch 4:  Cost:    1.10900; Accuracy:  62.5%\n",
      "Epoch 34, CIFAR-10 Batch 5:  Cost:    1.37882; Accuracy:  47.5%\n",
      "Epoch 35, CIFAR-10 Batch 1:  Cost:    1.34459; Accuracy:  52.5%\n",
      "Epoch 35, CIFAR-10 Batch 2:  Cost:    1.09146; Accuracy:  60.0%\n",
      "Epoch 35, CIFAR-10 Batch 3:  Cost:    1.09424; Accuracy:  65.0%\n",
      "Epoch 35, CIFAR-10 Batch 4:  Cost:    1.12315; Accuracy:  60.0%\n",
      "Epoch 35, CIFAR-10 Batch 5:  Cost:    1.43200; Accuracy:  47.5%\n",
      "Epoch 36, CIFAR-10 Batch 1:  Cost:    1.41209; Accuracy:  47.5%\n",
      "Epoch 36, CIFAR-10 Batch 2:  Cost:    1.09781; Accuracy:  60.0%\n",
      "Epoch 36, CIFAR-10 Batch 3:  Cost:    1.06810; Accuracy:  67.5%\n",
      "Epoch 36, CIFAR-10 Batch 4:  Cost:    1.11258; Accuracy:  60.0%\n",
      "Epoch 36, CIFAR-10 Batch 5:  Cost:    1.38125; Accuracy:  50.0%\n",
      "Epoch 37, CIFAR-10 Batch 1:  Cost:    1.33835; Accuracy:  50.0%\n",
      "Epoch 37, CIFAR-10 Batch 2:  Cost:    1.08288; Accuracy:  62.5%\n",
      "Epoch 37, CIFAR-10 Batch 3:  Cost:    1.05293; Accuracy:  72.5%\n",
      "Epoch 37, CIFAR-10 Batch 4:  Cost:    1.09888; Accuracy:  62.5%\n",
      "Epoch 37, CIFAR-10 Batch 5:  Cost:    1.36987; Accuracy:  50.0%\n",
      "Epoch 38, CIFAR-10 Batch 1:  Cost:    1.36525; Accuracy:  52.5%\n",
      "Epoch 38, CIFAR-10 Batch 2:  Cost:    1.07444; Accuracy:  52.5%\n",
      "Epoch 38, CIFAR-10 Batch 3:  Cost:    1.09307; Accuracy:  62.5%\n",
      "Epoch 38, CIFAR-10 Batch 4:  Cost:    1.06874; Accuracy:  65.0%\n",
      "Epoch 38, CIFAR-10 Batch 5:  Cost:    1.40075; Accuracy:  47.5%\n",
      "Epoch 39, CIFAR-10 Batch 1:  Cost:    1.33519; Accuracy:  52.5%\n",
      "Epoch 39, CIFAR-10 Batch 2:  Cost:    1.06030; Accuracy:  65.0%\n",
      "Epoch 39, CIFAR-10 Batch 3:  Cost:    1.06577; Accuracy:  67.5%\n",
      "Epoch 39, CIFAR-10 Batch 4:  Cost:    1.11085; Accuracy:  60.0%\n",
      "Epoch 39, CIFAR-10 Batch 5:  Cost:    1.37172; Accuracy:  45.0%\n",
      "Epoch 40, CIFAR-10 Batch 1:  Cost:    1.31795; Accuracy:  60.0%\n",
      "Epoch 40, CIFAR-10 Batch 2:  Cost:    1.06766; Accuracy:  57.5%\n",
      "Epoch 40, CIFAR-10 Batch 3:  Cost:    1.07156; Accuracy:  67.5%\n",
      "Epoch 40, CIFAR-10 Batch 4:  Cost:    1.07609; Accuracy:  60.0%\n",
      "Epoch 40, CIFAR-10 Batch 5:  Cost:    1.35635; Accuracy:  50.0%\n",
      "Epoch 41, CIFAR-10 Batch 1:  Cost:    1.32445; Accuracy:  55.0%\n",
      "Epoch 41, CIFAR-10 Batch 2:  Cost:    1.02844; Accuracy:  62.5%\n",
      "Epoch 41, CIFAR-10 Batch 3:  Cost:    1.03438; Accuracy:  67.5%\n",
      "Epoch 41, CIFAR-10 Batch 4:  Cost:    1.12070; Accuracy:  60.0%\n",
      "Epoch 41, CIFAR-10 Batch 5:  Cost:    1.36204; Accuracy:  42.5%\n",
      "Epoch 42, CIFAR-10 Batch 1:  Cost:    1.29619; Accuracy:  57.5%\n",
      "Epoch 42, CIFAR-10 Batch 2:  Cost:    1.00567; Accuracy:  65.0%\n",
      "Epoch 42, CIFAR-10 Batch 3:  Cost:    1.01083; Accuracy:  72.5%\n",
      "Epoch 42, CIFAR-10 Batch 4:  Cost:    1.05987; Accuracy:  60.0%\n",
      "Epoch 42, CIFAR-10 Batch 5:  Cost:    1.37523; Accuracy:  45.0%\n",
      "Epoch 43, CIFAR-10 Batch 1:  Cost:    1.29276; Accuracy:  55.0%\n",
      "Epoch 43, CIFAR-10 Batch 2:  Cost:    0.98879; Accuracy:  72.5%\n",
      "Epoch 43, CIFAR-10 Batch 3:  Cost:    0.94145; Accuracy:  70.0%\n",
      "Epoch 43, CIFAR-10 Batch 4:  Cost:    1.07684; Accuracy:  57.5%\n",
      "Epoch 43, CIFAR-10 Batch 5:  Cost:    1.33710; Accuracy:  50.0%\n",
      "Epoch 44, CIFAR-10 Batch 1:  Cost:    1.26940; Accuracy:  55.0%\n",
      "Epoch 44, CIFAR-10 Batch 2:  Cost:    1.00758; Accuracy:  62.5%\n",
      "Epoch 44, CIFAR-10 Batch 3:  Cost:    1.04038; Accuracy:  67.5%\n",
      "Epoch 44, CIFAR-10 Batch 4:  Cost:    1.06376; Accuracy:  65.0%\n",
      "Epoch 44, CIFAR-10 Batch 5:  Cost:    1.31108; Accuracy:  52.5%\n",
      "Epoch 45, CIFAR-10 Batch 1:  Cost:    1.24774; Accuracy:  55.0%\n",
      "Epoch 45, CIFAR-10 Batch 2:  Cost:    1.00294; Accuracy:  65.0%\n",
      "Epoch 45, CIFAR-10 Batch 3:  Cost:    1.00914; Accuracy:  70.0%\n",
      "Epoch 45, CIFAR-10 Batch 4:  Cost:    1.06682; Accuracy:  67.5%\n",
      "Epoch 45, CIFAR-10 Batch 5:  Cost:    1.29727; Accuracy:  52.5%\n",
      "Epoch 46, CIFAR-10 Batch 1:  Cost:    1.24154; Accuracy:  55.0%\n",
      "Epoch 46, CIFAR-10 Batch 2:  Cost:    0.97170; Accuracy:  67.5%\n",
      "Epoch 46, CIFAR-10 Batch 3:  Cost:    0.99666; Accuracy:  72.5%\n",
      "Epoch 46, CIFAR-10 Batch 4:  Cost:    1.08059; Accuracy:  65.0%\n",
      "Epoch 46, CIFAR-10 Batch 5:  Cost:    1.29567; Accuracy:  47.5%\n",
      "Epoch 47, CIFAR-10 Batch 1:  Cost:    1.24781; Accuracy:  60.0%\n",
      "Epoch 47, CIFAR-10 Batch 2:  Cost:    0.96804; Accuracy:  70.0%\n",
      "Epoch 47, CIFAR-10 Batch 3:  Cost:    0.99329; Accuracy:  72.5%\n",
      "Epoch 47, CIFAR-10 Batch 4:  Cost:    1.05993; Accuracy:  65.0%\n",
      "Epoch 47, CIFAR-10 Batch 5:  Cost:    1.25088; Accuracy:  50.0%\n",
      "Epoch 48, CIFAR-10 Batch 1:  Cost:    1.22323; Accuracy:  55.0%\n",
      "Epoch 48, CIFAR-10 Batch 2:  Cost:    0.95138; Accuracy:  70.0%\n",
      "Epoch 48, CIFAR-10 Batch 3:  Cost:    0.97424; Accuracy:  62.5%\n",
      "Epoch 48, CIFAR-10 Batch 4:  Cost:    1.05647; Accuracy:  65.0%\n",
      "Epoch 48, CIFAR-10 Batch 5:  Cost:    1.26914; Accuracy:  50.0%\n",
      "Epoch 49, CIFAR-10 Batch 1:  Cost:    1.16358; Accuracy:  57.5%\n",
      "Epoch 49, CIFAR-10 Batch 2:  Cost:    0.94960; Accuracy:  65.0%\n",
      "Epoch 49, CIFAR-10 Batch 3:  Cost:    0.96862; Accuracy:  70.0%\n",
      "Epoch 49, CIFAR-10 Batch 4:  Cost:    1.04950; Accuracy:  62.5%\n",
      "Epoch 49, CIFAR-10 Batch 5:  Cost:    1.28948; Accuracy:  50.0%\n",
      "Epoch 50, CIFAR-10 Batch 1:  Cost:    1.17819; Accuracy:  55.0%\n",
      "Epoch 50, CIFAR-10 Batch 2:  Cost:    0.92514; Accuracy:  70.0%\n",
      "Epoch 50, CIFAR-10 Batch 3:  Cost:    0.92738; Accuracy:  72.5%\n",
      "Epoch 50, CIFAR-10 Batch 4:  Cost:    1.06305; Accuracy:  67.5%\n",
      "Epoch 50, CIFAR-10 Batch 5:  Cost:    1.23872; Accuracy:  55.0%\n",
      "Epoch 51, CIFAR-10 Batch 1:  Cost:    1.23811; Accuracy:  52.5%\n",
      "Epoch 51, CIFAR-10 Batch 2:  Cost:    0.97988; Accuracy:  67.5%\n",
      "Epoch 51, CIFAR-10 Batch 3:  Cost:    0.95488; Accuracy:  70.0%\n",
      "Epoch 51, CIFAR-10 Batch 4:  Cost:    1.01991; Accuracy:  67.5%\n",
      "Epoch 51, CIFAR-10 Batch 5:  Cost:    1.29140; Accuracy:  50.0%\n",
      "Epoch 52, CIFAR-10 Batch 1:  Cost:    1.13149; Accuracy:  57.5%\n",
      "Epoch 52, CIFAR-10 Batch 2:  Cost:    0.95321; Accuracy:  65.0%\n",
      "Epoch 52, CIFAR-10 Batch 3:  Cost:    0.92193; Accuracy:  70.0%\n",
      "Epoch 52, CIFAR-10 Batch 4:  Cost:    1.02368; Accuracy:  67.5%\n",
      "Epoch 52, CIFAR-10 Batch 5:  Cost:    1.31306; Accuracy:  52.5%\n",
      "Epoch 53, CIFAR-10 Batch 1:  Cost:    1.16247; Accuracy:  60.0%\n",
      "Epoch 53, CIFAR-10 Batch 2:  Cost:    0.91587; Accuracy:  75.0%\n",
      "Epoch 53, CIFAR-10 Batch 3:  Cost:    0.88016; Accuracy:  75.0%\n",
      "Epoch 53, CIFAR-10 Batch 4:  Cost:    0.99502; Accuracy:  67.5%\n",
      "Epoch 53, CIFAR-10 Batch 5:  Cost:    1.25920; Accuracy:  60.0%\n",
      "Epoch 54, CIFAR-10 Batch 1:  Cost:    1.14469; Accuracy:  60.0%\n",
      "Epoch 54, CIFAR-10 Batch 2:  Cost:    0.94658; Accuracy:  67.5%\n",
      "Epoch 54, CIFAR-10 Batch 3:  Cost:    0.89094; Accuracy:  70.0%\n",
      "Epoch 54, CIFAR-10 Batch 4:  Cost:    0.97763; Accuracy:  67.5%\n",
      "Epoch 54, CIFAR-10 Batch 5:  Cost:    1.25756; Accuracy:  52.5%\n",
      "Epoch 55, CIFAR-10 Batch 1:  Cost:    1.10079; Accuracy:  60.0%\n",
      "Epoch 55, CIFAR-10 Batch 2:  Cost:    0.94764; Accuracy:  72.5%\n",
      "Epoch 55, CIFAR-10 Batch 3:  Cost:    0.87728; Accuracy:  72.5%\n",
      "Epoch 55, CIFAR-10 Batch 4:  Cost:    1.01163; Accuracy:  67.5%\n",
      "Epoch 55, CIFAR-10 Batch 5:  Cost:    1.23442; Accuracy:  57.5%\n",
      "Epoch 56, CIFAR-10 Batch 1:  Cost:    1.08114; Accuracy:  62.5%\n",
      "Epoch 56, CIFAR-10 Batch 2:  Cost:    0.93789; Accuracy:  70.0%\n",
      "Epoch 56, CIFAR-10 Batch 3:  Cost:    0.84980; Accuracy:  75.0%\n",
      "Epoch 56, CIFAR-10 Batch 4:  Cost:    0.99930; Accuracy:  72.5%\n",
      "Epoch 56, CIFAR-10 Batch 5:  Cost:    1.24560; Accuracy:  57.5%\n",
      "Epoch 57, CIFAR-10 Batch 1:  Cost:    1.09609; Accuracy:  62.5%\n",
      "Epoch 57, CIFAR-10 Batch 2:  Cost:    0.91643; Accuracy:  70.0%\n",
      "Epoch 57, CIFAR-10 Batch 3:  Cost:    0.91010; Accuracy:  67.5%\n",
      "Epoch 57, CIFAR-10 Batch 4:  Cost:    1.01881; Accuracy:  67.5%\n",
      "Epoch 57, CIFAR-10 Batch 5:  Cost:    1.24951; Accuracy:  57.5%\n",
      "Epoch 58, CIFAR-10 Batch 1:  Cost:    1.07879; Accuracy:  62.5%\n",
      "Epoch 58, CIFAR-10 Batch 2:  Cost:    0.94996; Accuracy:  67.5%\n",
      "Epoch 58, CIFAR-10 Batch 3:  Cost:    0.84924; Accuracy:  75.0%\n",
      "Epoch 58, CIFAR-10 Batch 4:  Cost:    0.97016; Accuracy:  67.5%\n",
      "Epoch 58, CIFAR-10 Batch 5:  Cost:    1.22793; Accuracy:  57.5%\n",
      "Epoch 59, CIFAR-10 Batch 1:  Cost:    1.07811; Accuracy:  62.5%\n",
      "Epoch 59, CIFAR-10 Batch 2:  Cost:    0.91664; Accuracy:  70.0%\n",
      "Epoch 59, CIFAR-10 Batch 3:  Cost:    0.85496; Accuracy:  70.0%\n",
      "Epoch 59, CIFAR-10 Batch 4:  Cost:    0.97570; Accuracy:  70.0%\n",
      "Epoch 59, CIFAR-10 Batch 5:  Cost:    1.21627; Accuracy:  62.5%\n",
      "Epoch 60, CIFAR-10 Batch 1:  Cost:    1.06066; Accuracy:  62.5%\n",
      "Epoch 60, CIFAR-10 Batch 2:  Cost:    0.93149; Accuracy:  70.0%\n",
      "Epoch 60, CIFAR-10 Batch 3:  Cost:    0.82008; Accuracy:  75.0%\n",
      "Epoch 60, CIFAR-10 Batch 4:  Cost:    0.95855; Accuracy:  70.0%\n",
      "Epoch 60, CIFAR-10 Batch 5:  Cost:    1.20928; Accuracy:  62.5%\n",
      "Epoch 61, CIFAR-10 Batch 1:  Cost:    1.05673; Accuracy:  65.0%\n",
      "Epoch 61, CIFAR-10 Batch 2:  Cost:    0.90847; Accuracy:  72.5%\n",
      "Epoch 61, CIFAR-10 Batch 3:  Cost:    0.85669; Accuracy:  72.5%\n",
      "Epoch 61, CIFAR-10 Batch 4:  Cost:    0.93265; Accuracy:  70.0%\n",
      "Epoch 61, CIFAR-10 Batch 5:  Cost:    1.21280; Accuracy:  60.0%\n",
      "Epoch 62, CIFAR-10 Batch 1:  Cost:    1.00002; Accuracy:  65.0%\n",
      "Epoch 62, CIFAR-10 Batch 2:  Cost:    0.89864; Accuracy:  72.5%\n",
      "Epoch 62, CIFAR-10 Batch 3:  Cost:    0.84947; Accuracy:  67.5%\n",
      "Epoch 62, CIFAR-10 Batch 4:  Cost:    0.97050; Accuracy:  67.5%\n",
      "Epoch 62, CIFAR-10 Batch 5:  Cost:    1.20999; Accuracy:  57.5%\n",
      "Epoch 63, CIFAR-10 Batch 1:  Cost:    1.01173; Accuracy:  62.5%\n",
      "Epoch 63, CIFAR-10 Batch 2:  Cost:    0.92010; Accuracy:  67.5%\n",
      "Epoch 63, CIFAR-10 Batch 3:  Cost:    0.89057; Accuracy:  72.5%\n",
      "Epoch 63, CIFAR-10 Batch 4:  Cost:    0.93085; Accuracy:  62.5%\n",
      "Epoch 63, CIFAR-10 Batch 5:  Cost:    1.21880; Accuracy:  60.0%\n",
      "Epoch 64, CIFAR-10 Batch 1:  Cost:    0.97230; Accuracy:  62.5%\n",
      "Epoch 64, CIFAR-10 Batch 2:  Cost:    0.88731; Accuracy:  75.0%\n",
      "Epoch 64, CIFAR-10 Batch 3:  Cost:    0.84299; Accuracy:  80.0%\n",
      "Epoch 64, CIFAR-10 Batch 4:  Cost:    0.94925; Accuracy:  70.0%\n",
      "Epoch 64, CIFAR-10 Batch 5:  Cost:    1.20935; Accuracy:  57.5%\n"
     ]
    }
   ],
   "source": [
    "\"\"\"\n",
    "DON'T MODIFY ANYTHING IN THIS CELL\n",
    "\"\"\"\n",
    "save_model_path = './image_classification'\n",
    "\n",
    "print('Training...')\n",
    "with tf.Session() as sess:\n",
    "    # Initializing the variables\n",
    "    sess.run(tf.global_variables_initializer())\n",
    "    \n",
    "    # Training cycle\n",
    "    for epoch in range(epochs):\n",
    "        # Loop over all batches\n",
    "        n_batches = 5\n",
    "        for batch_i in range(1, n_batches + 1):\n",
    "            for batch_features, batch_labels in helper.load_preprocess_training_batch(batch_i, batch_size):\n",
    "                train_neural_network(sess, optimizer, keep_probability, batch_features, batch_labels)\n",
    "            print('Epoch {:>2}, CIFAR-10 Batch {}:  '.format(epoch + 1, batch_i), end='')\n",
    "            print_stats(sess, batch_features, batch_labels, cost, accuracy)\n",
    "            \n",
    "    # Save Model\n",
    "    saver = tf.train.Saver()\n",
    "    save_path = saver.save(sess, save_model_path)"
   ]
  },
  {
   "cell_type": "markdown",
   "metadata": {
    "deletable": true,
    "editable": true
   },
   "source": [
    "# Checkpoint\n",
    "The model has been saved to disk.\n",
    "## Test Model\n",
    "Test your model against the test dataset.  This will be your final accuracy. You should have an accuracy greater than 50%. If you don't, keep tweaking the model architecture and parameters."
   ]
  },
  {
   "cell_type": "code",
   "execution_count": 21,
   "metadata": {
    "collapsed": false,
    "deletable": true,
    "editable": true
   },
   "outputs": [
    {
     "name": "stdout",
     "output_type": "stream",
     "text": [
      "Testing Accuracy: 0.5556329617834395\n",
      "\n"
     ]
    },
    {
     "data": {
      "image/png": "[encoded data removed]",
      "text/plain": [
       "<matplotlib.figure.Figure at 0x20180349898>"
      ]
     },
     "metadata": {
      "image/png": {
       "height": 319,
       "width": 355
      }
     },
     "output_type": "display_data"
    }
   ],
   "source": [
    "\"\"\"\n",
    "DON'T MODIFY ANYTHING IN THIS CELL\n",
    "\"\"\"\n",
    "%matplotlib inline\n",
    "%config InlineBackend.figure_format = 'retina'\n",
    "\n",
    "import tensorflow as tf\n",
    "import pickle\n",
    "import helper\n",
    "import random\n",
    "\n",
    "# Set batch size if not already set\n",
    "try:\n",
    "    if batch_size:\n",
    "        pass\n",
    "except NameError:\n",
    "    batch_size = 64\n",
    "\n",
    "save_model_path = './image_classification'\n",
    "n_samples = 4\n",
    "top_n_predictions = 3\n",
    "\n",
    "def test_model():\n",
    "    \"\"\"\n",
    "    Test the saved model against the test dataset\n",
    "    \"\"\"\n",
    "\n",
    "    test_features, test_labels = pickle.load(open('preprocess_training.p', mode='rb'))\n",
    "    loaded_graph = tf.Graph()\n",
    "\n",
    "    with tf.Session(graph=loaded_graph) as sess:\n",
    "        # Load model\n",
    "        loader = tf.train.import_meta_graph(save_model_path + '.meta')\n",
    "        loader.restore(sess, save_model_path)\n",
    "\n",
    "        # Get Tensors from loaded model\n",
    "        loaded_x = loaded_graph.get_tensor_by_name('x:0')\n",
    "        loaded_y = loaded_graph.get_tensor_by_name('y:0')\n",
    "        loaded_keep_prob = loaded_graph.get_tensor_by_name('keep_prob:0')\n",
    "        loaded_logits = loaded_graph.get_tensor_by_name('logits:0')\n",
    "        loaded_acc = loaded_graph.get_tensor_by_name('accuracy:0')\n",
    "        \n",
    "        # Get accuracy in batches for memory limitations\n",
    "        test_batch_acc_total = 0\n",
    "        test_batch_count = 0\n",
    "        \n",
    "        for train_feature_batch, train_label_batch in helper.batch_features_labels(test_features, test_labels, batch_size):\n",
    "            test_batch_acc_total += sess.run(\n",
    "                loaded_acc,\n",
    "                feed_dict={loaded_x: train_feature_batch, loaded_y: train_label_batch, loaded_keep_prob: 1.0})\n",
    "            test_batch_count += 1\n",
    "\n",
    "        print('Testing Accuracy: {}\\n'.format(test_batch_acc_total/test_batch_count))\n",
    "\n",
    "        # Print Random Samples\n",
    "        random_test_features, random_test_labels = tuple(zip(*random.sample(list(zip(test_features, test_labels)), n_samples)))\n",
    "        random_test_predictions = sess.run(\n",
    "            tf.nn.top_k(tf.nn.softmax(loaded_logits), top_n_predictions),\n",
    "            feed_dict={loaded_x: random_test_features, loaded_y: random_test_labels, loaded_keep_prob: 1.0})\n",
    "        helper.display_image_predictions(random_test_features, random_test_labels, random_test_predictions)\n",
    "\n",
    "\n",
    "test_model()"
   ]
  },
  {
   "cell_type": "markdown",
   "metadata": {
    "deletable": true,
    "editable": true
   },
   "source": [
    "## Why 50-80% Accuracy?\n",
    "You might be wondering why you can't get an accuracy any higher. First things first, 50% isn't bad for a simple CNN.  Pure guessing would get you 10% accuracy. However, you might notice people are getting scores [well above 80%](http://rodrigob.github.io/are_we_there_yet/build/classification_datasets_results.html#43494641522d3130).  That's because we haven't taught you all there is to know about neural networks. We still need to cover a few more techniques.\n",
    "## Submitting This Project\n",
    "When submitting this project, make sure to run all the cells before saving the notebook.  Save the notebook file as \"dlnd_image_classification.ipynb\" and save it as a HTML file under \"File\" -> \"Download as\".  Include the \"helper.py\" and \"problem_unittests.py\" files in your submission."
   ]
  }
 ],
 "metadata": {
  "kernelspec": {
   "display_name": "Python 3",
   "language": "python",
   "name": "python3"
  },
  "language_info": {
   "codemirror_mode": {
    "name": "ipython",
    "version": 3
   },
   "file_extension": ".py",
   "mimetype": "text/x-python",
   "name": "python",
   "nbconvert_exporter": "python",
   "pygments_lexer": "ipython3",
   "version": "3.5.3"
  }
 },
 "nbformat": 4,
 "nbformat_minor": 0
}
