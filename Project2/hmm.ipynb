{
 "cells": [
  {
   "cell_type": "code",
   "execution_count": 2,
   "metadata": {
    "collapsed": true
   },
   "outputs": [],
   "source": [
    "import tensorflow as tf\n",
    "import numpy as np"
   ]
  },
  {
   "cell_type": "code",
   "execution_count": 41,
   "metadata": {
    "collapsed": false
   },
   "outputs": [
    {
     "name": "stdout",
     "output_type": "stream",
     "text": [
      "[array([ 0.,  0.,  0.,  0.,  0.,  0.,  0.,  0.,  0.,  0.]), array([ 0.,  0.,  0.,  0.,  0.,  0.,  0.,  0.,  0.,  1.]), 2.3025850929940459]\n"
     ]
    }
   ],
   "source": [
    "x = np.zeros(10)\n",
    "y = np.r_[np.zeros(9), [1.0]]\n",
    "\n",
    "x = tf.constant(x)\n",
    "y = tf.constant(y)\n",
    "\n",
    "\n",
    "cost = tf.nn.softmax_cross_entropy_with_logits(logits=x, labels=y)\n",
    "\n",
    "with tf.Session() as session:\n",
    "    print(session.run([x, y, cost]))"
   ]
  },
  {
   "cell_type": "code",
   "execution_count": 47,
   "metadata": {
    "collapsed": false
   },
   "outputs": [
    {
     "name": "stdout",
     "output_type": "stream",
     "text": [
      "[array([ 0.02811065, -0.48982717,  0.33634015, -0.33611834,  0.51378199,\n",
      "        0.22218357,  0.29560668, -0.54860917, -0.23908286,  0.88134248]), array([ 0.02811065, -0.24491359,  0.33634015, -0.16805917,  0.51378199,\n",
      "        0.22218357,  0.29560668, -0.27430459, -0.11954143,  0.88134248])]\n"
     ]
    }
   ],
   "source": [
    "x = tf.constant(np.random.uniform(-1, 1, 10))\n",
    "y = (x + tf.maximum(x, 0.0)) * 0.5\n",
    "\n",
    "with tf.Session() as session:\n",
    "    print(session.run([x, y]))"
   ]
  }
 ],
 "metadata": {
  "kernelspec": {
   "display_name": "Python 3",
   "language": "python",
   "name": "python3"
  },
  "language_info": {
   "codemirror_mode": {
    "name": "ipython",
    "version": 3
   },
   "file_extension": ".py",
   "mimetype": "text/x-python",
   "name": "python",
   "nbconvert_exporter": "python",
   "pygments_lexer": "ipython3",
   "version": "3.5.3"
  }
 },
 "nbformat": 4,
 "nbformat_minor": 2
}
